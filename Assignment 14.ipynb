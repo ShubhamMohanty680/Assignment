{
 "cells": [
  {
   "cell_type": "markdown",
   "id": "800f141f",
   "metadata": {},
   "source": [
    "# Q.1"
   ]
  },
  {
   "cell_type": "markdown",
   "id": "e39f3135",
   "metadata": {},
   "source": [
    "Multithreading is a technique of concurrently executing multiple threads by rapidly switching the control of the CPU between the threads.\n",
    "\n",
    "Multithreading is used to provide effective utilization of computer resources for different instances of program or for the same program.\n",
    "\n",
    "The Threading module is used to handle threads in python."
   ]
  },
  {
   "cell_type": "markdown",
   "id": "76934610",
   "metadata": {},
   "source": [
    "# Q.2"
   ]
  },
  {
   "cell_type": "markdown",
   "id": "fa5f1910",
   "metadata": {},
   "source": [
    "The Python Threading module allows you to create and manage new threads for execution in Python.\n",
    "\n",
    "1. activeCount() ->This method returns the total currently active Thread count.\n",
    "2. currentThread() -> This method is a Thread class object, it returns the current Thread object active at the moment.\n",
    "3. enumerate() ->  This method adds a counter to an iterable and returns it in a form of enumerating object."
   ]
  },
  {
   "cell_type": "markdown",
   "id": "e34200d4",
   "metadata": {},
   "source": [
    "# Q.3"
   ]
  },
  {
   "cell_type": "markdown",
   "id": "2612a646",
   "metadata": {},
   "source": [
    "These functions are related to the Thread class in Python's threading module. Here's an explanation of each function:\n",
    "\n",
    "run(): This is the method that gets called when you start a thread. It contains the code that will run in the new thread. When creating a new thread, you can define your own run() method that will be executed in that thread.\n",
    "\n",
    "start(): This method starts the thread by calling the run() method. Once you've created a new thread with the Thread class, you can start it by calling the start() method.\n",
    "\n",
    "join(): This method blocks the main thread until the thread it's called on has finished. When you call join() on a thread, the main thread will wait until the thread has finished before continuing execution. This is useful if you need to ensure that a certain thread has completed before continuing with the rest of your code.\n",
    "\n",
    "is_alive(): This method returns True if the thread is still running, and False if it has finished. You can use this method to check the status of a thread and determine whether it's still executing or not."
   ]
  },
  {
   "cell_type": "code",
   "execution_count": 1,
   "id": "63090ed9",
   "metadata": {},
   "outputs": [
    {
     "name": "stdout",
     "output_type": "stream",
     "text": [
      "Thread started\n",
      "Thread is alive and running\n",
      "Thread finished\n",
      "Thread has finished\n"
     ]
    }
   ],
   "source": [
    "import threading\n",
    "import time\n",
    "\n",
    "def thread():\n",
    "    print(\"Thread started\")\n",
    "    time.sleep(1)\n",
    "    print(\"Thread finished\")\n",
    "    \n",
    "t=threading.Thread(target=thread)\n",
    "\n",
    "t.start()\n",
    "\n",
    "if t.is_alive():\n",
    "    print(\"Thread is alive and running\")\n",
    "    \n",
    "t.join()\n",
    "#Checking if join() teminates the thread or not\n",
    "if t.is_alive():\n",
    "    print(\"Thread is still running\")\n",
    "else:\n",
    "    print(\"Thread has finished\")"
   ]
  },
  {
   "cell_type": "markdown",
   "id": "9792e16c",
   "metadata": {},
   "source": [
    "# Q.4"
   ]
  },
  {
   "cell_type": "code",
   "execution_count": 3,
   "id": "4c323cc3",
   "metadata": {},
   "outputs": [
    {
     "name": "stdout",
     "output_type": "stream",
     "text": [
      "1 square is 1\n",
      "2 square is 4\n",
      "3 square is 9\n",
      "4 square is 16\n",
      "5 square is 25\n",
      "6 square is 36\n",
      "7 square is 49\n",
      "8 square is 64\n",
      "9 square is 81\n",
      "10 square is 100\n",
      "\n",
      "1 cube is 1\n",
      "2 cube is 8\n",
      "3 cube is 27\n",
      "4 cube is 64\n",
      "5 cube is 125\n",
      "6 cube is 216\n",
      "7 cube is 343\n",
      "8 cube is 512\n",
      "9 cube is 729\n",
      "10 cube is 1000\n"
     ]
    }
   ],
   "source": [
    "import threading\n",
    "\n",
    "def squares():\n",
    "    for i in range(1,11):\n",
    "        print(f\"{i} square is {i*i}\")\n",
    "    print()\n",
    "    \n",
    "def cubes():\n",
    "    for i in range(1,11):\n",
    "        print(f\"{i} cube is {i*i*i}\")\n",
    "        \n",
    "t1=threading.Thread(target=squares)\n",
    "t2=threading.Thread(target=cubes)\n",
    "t1.start()\n",
    "t2.start()\n",
    "t1.join()\n",
    "t2.join()\n"
   ]
  },
  {
   "cell_type": "markdown",
   "id": "6daf0fa2",
   "metadata": {},
   "source": [
    "# Q.5"
   ]
  },
  {
   "cell_type": "markdown",
   "id": "d09b494c",
   "metadata": {},
   "source": [
    "The advantges and disadvantages of multithreading are:"
   ]
  },
  {
   "cell_type": "markdown",
   "id": "48ef24a0",
   "metadata": {},
   "source": [
    "Advantages:\n",
    "\n",
    "Improved performance: Multithreading can improve the performance of a program by allowing it to perform multiple tasks concurrently.\n",
    "\n",
    "Increased responsiveness: Multithreading can improve the responsiveness of a program by allowing it to continue processing user input or other events while it performs time-consuming tasks in the background.\n",
    "\n",
    "Resource sharing: Multithreading can allow multiple threads to share resources, such as memory and file handles, which can save memory and improve efficiency.\n",
    "\n",
    "Improved throughput: Many concurrent processes compute operations and I/O requests within a single process."
   ]
  },
  {
   "cell_type": "markdown",
   "id": "87f5e769",
   "metadata": {},
   "source": [
    "Disadvantages:\n",
    "\n",
    "Complexity: Multithreading can add complexity to a program, as it requires careful synchronization and coordination between threads to avoid race conditions and other concurrency issues.\n",
    "\n",
    "Overhead: Multithreading can add overhead to a program, as there is a cost associated with creating and managing multiple threads.\n",
    "\n",
    "Debugging: Multithreaded programs can be more difficult to debug, as concurrency issues can be difficult to reproduce and diagnose.\n",
    "\n",
    "Scalability: Multithreading may not always be the best solution for improving the scalability of a program, as it can be limited by factors such as the number of available cores or memory."
   ]
  },
  {
   "cell_type": "markdown",
   "id": "00bbd621",
   "metadata": {},
   "source": [
    "# Q.6"
   ]
  },
  {
   "cell_type": "markdown",
   "id": "65ffa66a",
   "metadata": {},
   "source": [
    "Deadlocks and race conditions are common concurrency issues that can occur in multithreaded programs.\n",
    "\n",
    "A deadlock occurs when two or more threads are blocked, waiting for each other to release a resource. This can happen when one thread holds a resource that another thread needs, and that second thread holds a resource that the first thread needs. This situation creates a circular dependency, where each thread is waiting for the other to release the resource, and neither can make progress.\n",
    "\n",
    "For example, imagine a program with two threads: Thread A and Thread B. Thread A holds Resource 1 and is waiting for Resource 2, while Thread B holds Resource 2 and is waiting for Resource 1. Since neither thread can proceed until it acquires the other resource, the program is deadlocked.\n",
    "\n",
    "A race condition, on the other hand, occurs when two or more threads access a shared resource in an unpredictable order, leading to unexpected or incorrect results. This can happen when multiple threads attempt to modify the same variable or object, and the order of those modifications is not deterministic.\n",
    "\n",
    "For example, imagine a program with two threads: Thread A and Thread B. Both threads access a shared variable called \"counter\" and increment it by 1. However, the order in which these increments occur is not guaranteed, and the final value of \"counter\" may be unpredictable. This is a race condition, as the final result depends on the order in which the threads execute, which may vary depending on factors such as thread scheduling and timing.\n",
    "\n",
    "Both deadlocks and race conditions can be difficult to detect and diagnose, as they can depend on a variety of external factors and may not be easily reproducible. To avoid these issues, it is important to design multithreaded programs carefully, with appropriate synchronization and coordination between threads to avoid conflicts and ensure correct behavior."
   ]
  }
 ],
 "metadata": {
  "kernelspec": {
   "display_name": "Python 3 (ipykernel)",
   "language": "python",
   "name": "python3"
  },
  "language_info": {
   "codemirror_mode": {
    "name": "ipython",
    "version": 3
   },
   "file_extension": ".py",
   "mimetype": "text/x-python",
   "name": "python",
   "nbconvert_exporter": "python",
   "pygments_lexer": "ipython3",
   "version": "3.9.12"
  }
 },
 "nbformat": 4,
 "nbformat_minor": 5
}
