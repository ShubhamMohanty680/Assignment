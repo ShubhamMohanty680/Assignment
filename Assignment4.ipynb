{
 "cells": [
  {
   "cell_type": "markdown",
   "id": "3e0cbd73",
   "metadata": {},
   "source": [
    "# Q.1"
   ]
  },
  {
   "cell_type": "markdown",
   "id": "3d3e529b",
   "metadata": {},
   "source": [
    "'def' is a keyword used to create a function.A function, once defined, can be invoked as many times as needed by using its name, without having to rewrite its code."
   ]
  },
  {
   "cell_type": "code",
   "execution_count": 5,
   "id": "632c88ba",
   "metadata": {},
   "outputs": [],
   "source": [
    "def odd(a,b):\n",
    "    l=[]\n",
    "    for i in range(a,b+1):\n",
    "        if i%2!=0:\n",
    "            l.append(i)\n",
    "    return l"
   ]
  },
  {
   "cell_type": "code",
   "execution_count": 7,
   "id": "249caea9",
   "metadata": {},
   "outputs": [
    {
     "data": {
      "text/plain": [
       "[1, 3, 5, 7, 9, 11, 13, 15, 17, 19, 21, 23, 25]"
      ]
     },
     "execution_count": 7,
     "metadata": {},
     "output_type": "execute_result"
    }
   ],
   "source": [
    "odd(1,25)"
   ]
  },
  {
   "cell_type": "markdown",
   "id": "0baeb88c",
   "metadata": {},
   "source": [
    "# Q.2"
   ]
  },
  {
   "cell_type": "markdown",
   "id": "e5029f2d",
   "metadata": {},
   "source": [
    "The syntax *args in function definition is used to pass variable number of arguments to a function and is used to pass a non-key word argument list."
   ]
  },
  {
   "cell_type": "code",
   "execution_count": 14,
   "id": "80ab48e3",
   "metadata": {},
   "outputs": [],
   "source": [
    "def add(*args):\n",
    "    args=sum(args)\n",
    "    return args"
   ]
  },
  {
   "cell_type": "code",
   "execution_count": 15,
   "id": "c3f8f13e",
   "metadata": {},
   "outputs": [
    {
     "data": {
      "text/plain": [
       "10"
      ]
     },
     "execution_count": 15,
     "metadata": {},
     "output_type": "execute_result"
    }
   ],
   "source": [
    "add(1,2,3,4)  #Can give infinite number of inputs as the argument."
   ]
  },
  {
   "cell_type": "markdown",
   "id": "05c13d5a",
   "metadata": {},
   "source": [
    "The syntax **kwargs in function is used to pass a key-worded variable length argument list.It is similar to dictionary where it maps each keywords with the values that we pass.We use the name kwargs with the double star. The reason is that the double star allows us to pass through keyword arguments (and any number of them)."
   ]
  },
  {
   "cell_type": "code",
   "execution_count": 16,
   "id": "e79faa74",
   "metadata": {},
   "outputs": [],
   "source": [
    "def test(**kwargs):\n",
    "    return kwargs"
   ]
  },
  {
   "cell_type": "code",
   "execution_count": 18,
   "id": "4056deb8",
   "metadata": {},
   "outputs": [
    {
     "data": {
      "text/plain": [
       "{'a': [1, 2, 3, 4], 'b': 'shubham', 'c': (1, 2, 3, 5), 'd': 32.19}"
      ]
     },
     "execution_count": 18,
     "metadata": {},
     "output_type": "execute_result"
    }
   ],
   "source": [
    "test(a=[1,2,3,4],b=\"shubham\",c=(1,2,3,5),d=32.19)"
   ]
  },
  {
   "cell_type": "markdown",
   "id": "a03a7af3",
   "metadata": {},
   "source": [
    "# Q.3"
   ]
  },
  {
   "cell_type": "markdown",
   "id": "c279d9f8",
   "metadata": {},
   "source": [
    "An iterator is an object that contains a countable number of values. An iterator is an object that can be iterated upon, meaning that you can traverse through all the values."
   ]
  },
  {
   "cell_type": "markdown",
   "id": "b4cdbd96",
   "metadata": {},
   "source": [
    " The iterator object is initialized using the iter() method and uses the next() as the method for iteration."
   ]
  },
  {
   "cell_type": "code",
   "execution_count": 26,
   "id": "5f04dfaf",
   "metadata": {},
   "outputs": [
    {
     "name": "stdout",
     "output_type": "stream",
     "text": [
      "2\n",
      "4\n",
      "6\n",
      "8\n",
      "10\n"
     ]
    }
   ],
   "source": [
    "l1=[2,4,6,8,10,12,14,16,18,20]\n",
    "result=iter(l1) #Coverted from iterable to iterator by using iter()\n",
    "for i in range(5):\n",
    "    print(next(result)) #used to go to next iteration of list ny using next()"
   ]
  },
  {
   "cell_type": "markdown",
   "id": "d0a62d40",
   "metadata": {},
   "source": [
    "# Q.4"
   ]
  },
  {
   "cell_type": "markdown",
   "id": "07294719",
   "metadata": {},
   "source": [
    " A generator function is a special type of function which does not return a single value, instead, it returns an iterator object with a sequence of values. In a generator function, a yield statement is used rather than a return statement."
   ]
  },
  {
   "cell_type": "markdown",
   "id": "f78c54c0",
   "metadata": {},
   "source": [
    "yield keyword is used to create a generator function. A type of function that is memory efficient and can be used like an iterator object. "
   ]
  },
  {
   "cell_type": "code",
   "execution_count": 29,
   "id": "559a368e",
   "metadata": {},
   "outputs": [],
   "source": [
    "def sequence_upto(x):\n",
    "    for i in range(x):\n",
    "        yield i"
   ]
  },
  {
   "cell_type": "code",
   "execution_count": 36,
   "id": "9a3dd194",
   "metadata": {},
   "outputs": [
    {
     "name": "stdout",
     "output_type": "stream",
     "text": [
      "0\n",
      "1\n",
      "2\n",
      "3\n",
      "4\n"
     ]
    }
   ],
   "source": [
    "for i in sequence_upto(5):\n",
    "    print(i)"
   ]
  },
  {
   "cell_type": "markdown",
   "id": "d53a2a8a",
   "metadata": {},
   "source": [
    "# Q.5"
   ]
  },
  {
   "cell_type": "code",
   "execution_count": 54,
   "id": "ac1a21ba",
   "metadata": {},
   "outputs": [],
   "source": [
    "def prime_number():\n",
    "    for i in range(2,1000):\n",
    "        isPrime=True\n",
    "        for j in range(2,i):\n",
    "            if i%j==0:\n",
    "                isPrime=False\n",
    "                break\n",
    "        if isPrime:\n",
    "            yield i\n",
    "    "
   ]
  },
  {
   "cell_type": "code",
   "execution_count": 55,
   "id": "5f1b9a47",
   "metadata": {},
   "outputs": [
    {
     "name": "stdout",
     "output_type": "stream",
     "text": [
      "2\n",
      "3\n",
      "5\n",
      "7\n",
      "11\n",
      "13\n",
      "17\n",
      "19\n",
      "23\n",
      "29\n",
      "31\n",
      "37\n",
      "41\n",
      "43\n",
      "47\n",
      "53\n",
      "59\n",
      "61\n",
      "67\n",
      "71\n"
     ]
    }
   ],
   "source": [
    "p=prime_number()\n",
    "for k in range(20):\n",
    "    print(next(p))"
   ]
  },
  {
   "cell_type": "markdown",
   "id": "d5d415d9",
   "metadata": {},
   "source": [
    "# Q.6"
   ]
  },
  {
   "cell_type": "code",
   "execution_count": 44,
   "id": "95a4586f",
   "metadata": {},
   "outputs": [],
   "source": [
    "def fibo():\n",
    "    a,b=0,1\n",
    "    while True:\n",
    "        yield a\n",
    "        a,b=b,a+b"
   ]
  },
  {
   "cell_type": "code",
   "execution_count": 45,
   "id": "486229d0",
   "metadata": {},
   "outputs": [],
   "source": [
    "fibonacci=fibo()"
   ]
  },
  {
   "cell_type": "code",
   "execution_count": 47,
   "id": "6a553596",
   "metadata": {},
   "outputs": [
    {
     "name": "stdout",
     "output_type": "stream",
     "text": [
      "0\n",
      "1\n",
      "1\n",
      "2\n",
      "3\n",
      "5\n",
      "8\n",
      "13\n",
      "21\n",
      "34\n"
     ]
    }
   ],
   "source": [
    "for i in range(10):\n",
    "    print(next(fibonacci))"
   ]
  },
  {
   "cell_type": "markdown",
   "id": "f038bb9e",
   "metadata": {},
   "source": [
    "# Q.7"
   ]
  },
  {
   "cell_type": "code",
   "execution_count": 57,
   "id": "e2278b4b",
   "metadata": {},
   "outputs": [
    {
     "data": {
      "text/plain": [
       "['p', 'w', 's', 'k', 'i', 'l', 'l', 's']"
      ]
     },
     "execution_count": 57,
     "metadata": {},
     "output_type": "execute_result"
    }
   ],
   "source": [
    "s=\"pwskills\"\n",
    "[i for i in s]"
   ]
  },
  {
   "cell_type": "markdown",
   "id": "ef3bdd1d",
   "metadata": {},
   "source": [
    "# Q.8"
   ]
  },
  {
   "cell_type": "code",
   "execution_count": 63,
   "id": "229bc79f",
   "metadata": {},
   "outputs": [
    {
     "name": "stdout",
     "output_type": "stream",
     "text": [
      "Enter Number 1221\n",
      "It is Palindrone\n"
     ]
    }
   ],
   "source": [
    "number=int(input(\"Enter Number \"))\n",
    "a=number\n",
    "rev=0\n",
    "while number>0:\n",
    "    digit=number%10\n",
    "    rev=rev*10+digit\n",
    "    number=number//10\n",
    "if a==rev:\n",
    "    print(\"It is Palindrone\")\n",
    "else:\n",
    "    print(\"It is not a palindrone\")"
   ]
  },
  {
   "cell_type": "markdown",
   "id": "c63d0b0f",
   "metadata": {},
   "source": [
    "# Q.9"
   ]
  },
  {
   "cell_type": "code",
   "execution_count": 65,
   "id": "d14f7d76",
   "metadata": {},
   "outputs": [],
   "source": [
    "l1=[i for i in range(1,101)]"
   ]
  },
  {
   "cell_type": "code",
   "execution_count": 70,
   "id": "d8318497",
   "metadata": {},
   "outputs": [
    {
     "name": "stdout",
     "output_type": "stream",
     "text": [
      "[1, 2, 3, 4, 5, 6, 7, 8, 9, 10, 11, 12, 13, 14, 15, 16, 17, 18, 19, 20, 21, 22, 23, 24, 25, 26, 27, 28, 29, 30, 31, 32, 33, 34, 35, 36, 37, 38, 39, 40, 41, 42, 43, 44, 45, 46, 47, 48, 49, 50, 51, 52, 53, 54, 55, 56, 57, 58, 59, 60, 61, 62, 63, 64, 65, 66, 67, 68, 69, 70, 71, 72, 73, 74, 75, 76, 77, 78, 79, 80, 81, 82, 83, 84, 85, 86, 87, 88, 89, 90, 91, 92, 93, 94, 95, 96, 97, 98, 99, 100]\n"
     ]
    }
   ],
   "source": [
    "print(l1)"
   ]
  },
  {
   "cell_type": "code",
   "execution_count": 68,
   "id": "182a681c",
   "metadata": {},
   "outputs": [],
   "source": [
    "l2=[j for j in l1 if j%2!=0]"
   ]
  },
  {
   "cell_type": "code",
   "execution_count": 71,
   "id": "9475ec19",
   "metadata": {},
   "outputs": [
    {
     "name": "stdout",
     "output_type": "stream",
     "text": [
      "[1, 3, 5, 7, 9, 11, 13, 15, 17, 19, 21, 23, 25, 27, 29, 31, 33, 35, 37, 39, 41, 43, 45, 47, 49, 51, 53, 55, 57, 59, 61, 63, 65, 67, 69, 71, 73, 75, 77, 79, 81, 83, 85, 87, 89, 91, 93, 95, 97, 99]\n"
     ]
    }
   ],
   "source": [
    "print(l2)"
   ]
  }
 ],
 "metadata": {
  "kernelspec": {
   "display_name": "Python 3 (ipykernel)",
   "language": "python",
   "name": "python3"
  },
  "language_info": {
   "codemirror_mode": {
    "name": "ipython",
    "version": 3
   },
   "file_extension": ".py",
   "mimetype": "text/x-python",
   "name": "python",
   "nbconvert_exporter": "python",
   "pygments_lexer": "ipython3",
   "version": "3.9.12"
  }
 },
 "nbformat": 4,
 "nbformat_minor": 5
}
