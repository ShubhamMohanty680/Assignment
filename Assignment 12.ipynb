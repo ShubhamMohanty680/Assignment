{
 "cells": [
  {
   "cell_type": "markdown",
   "id": "a0301dc8",
   "metadata": {},
   "source": [
    "# Q.1"
   ]
  },
  {
   "cell_type": "markdown",
   "id": "8af488bb",
   "metadata": {},
   "source": [
    "Exceptions are raised when the program is syntactically correct, but the code resulted in an error. This error does not stop the execution of the program, however, it changes the normal flow of the program."
   ]
  },
  {
   "cell_type": "markdown",
   "id": "d0beea82",
   "metadata": {},
   "source": [
    "The differnce between Exceptions and syntax Error is that the syntax error when the proper syntax of the language is not followed then a syntax error is thrown but the Exception is when in the runtime an error that occurs after passing the syntax test is called exception or logical type.Syntax errors often called as parsing errors, are predominantly caused when the parser detects a syntactic issue in your code.\n",
    "\n",
    "The Exceptions can be handled using try and except at the runtime but the Syntax errors cannot be handled. "
   ]
  },
  {
   "cell_type": "markdown",
   "id": "348d2531",
   "metadata": {},
   "source": [
    "# Q.2"
   ]
  },
  {
   "cell_type": "markdown",
   "id": "ea31b3e0",
   "metadata": {},
   "source": [
    "If an exception is not handled then the code will abort the program (i.e. crash) abruptly and an exception message will print to the console."
   ]
  },
  {
   "cell_type": "code",
   "execution_count": 4,
   "id": "8c8101cf",
   "metadata": {},
   "outputs": [],
   "source": [
    "def div():\n",
    "    try:\n",
    "        numerator=10\n",
    "        denominator=0\n",
    "        result=numerator/denominator\n",
    "    except ZeroDivisionError as e:\n",
    "        print(e)"
   ]
  },
  {
   "cell_type": "code",
   "execution_count": 5,
   "id": "80ee0a34",
   "metadata": {},
   "outputs": [
    {
     "name": "stdout",
     "output_type": "stream",
     "text": [
      "division by zero\n"
     ]
    }
   ],
   "source": [
    "div()  #If error is not handled using try and except then it gives error."
   ]
  },
  {
   "cell_type": "markdown",
   "id": "a02479d4",
   "metadata": {},
   "source": [
    "# Q.3"
   ]
  },
  {
   "cell_type": "markdown",
   "id": "a4c7e829",
   "metadata": {},
   "source": [
    "The try and except block in Python is used to catch and handle exceptions."
   ]
  },
  {
   "cell_type": "code",
   "execution_count": 7,
   "id": "922de03b",
   "metadata": {},
   "outputs": [],
   "source": [
    "def div1():\n",
    "    try:\n",
    "        numerator = 10\n",
    "        denominator = 0\n",
    "        result = numerator/denominator\n",
    "        print(result)\n",
    "    except:\n",
    "        print(\"Error: Denominator cannot be 0.\")\n"
   ]
  },
  {
   "cell_type": "code",
   "execution_count": 8,
   "id": "a5a469f8",
   "metadata": {},
   "outputs": [
    {
     "name": "stdout",
     "output_type": "stream",
     "text": [
      "Error: Denominator cannot be 0.\n"
     ]
    }
   ],
   "source": [
    "div1()"
   ]
  },
  {
   "cell_type": "markdown",
   "id": "862e99be",
   "metadata": {},
   "source": [
    "In the above code numerator/denominator results to not defined which can lead to exception which is then handled by using the try and except block.If any runtime anamoly (i.e. error due to input data) occurs then try throws it  the except block gets executed."
   ]
  },
  {
   "cell_type": "markdown",
   "id": "8b8dd1a8",
   "metadata": {},
   "source": [
    "# Q.4"
   ]
  },
  {
   "cell_type": "code",
   "execution_count": 10,
   "id": "259db97b",
   "metadata": {},
   "outputs": [
    {
     "name": "stdout",
     "output_type": "stream",
     "text": [
      "this will be executed once your try will execute without error\n"
     ]
    }
   ],
   "source": [
    "#try and else\n",
    "\n",
    "try:\n",
    "    f=open(\"first.txt\",'w')\n",
    "    f.write(\"write into my file \")\n",
    "except Exception as e:\n",
    "    print(\"this is my except block \",e)\n",
    "else:\n",
    "    f.close()\n",
    "    print(\"this will be executed once your try will execute without error\")\n",
    "\n",
    "    \n",
    "#The else block is executed after the successful excecution of try block i.e. if no exception(runtime anamoly) occurs.\n",
    "#If the except block is executed then the else block will not execute."
   ]
  },
  {
   "cell_type": "code",
   "execution_count": 6,
   "id": "a4f97920",
   "metadata": {},
   "outputs": [
    {
     "name": "stdout",
     "output_type": "stream",
     "text": [
      "file not found\n",
      "finally will execute itself in any situation\n"
     ]
    }
   ],
   "source": [
    "#finally\n",
    "\n",
    "try:\n",
    "    f=open(\"second.txt\",'r')\n",
    "    f.write(\"write something\")\n",
    "    f.close()\n",
    "except FileNotFoundError as e:\n",
    "    print(\"file not found\")\n",
    "finally:\n",
    "    print(\"finally will execute itself in any situation\")\n",
    "    \n",
    "#In the above code the finally statement will be executed independent of any kind of error."
   ]
  },
  {
   "cell_type": "code",
   "execution_count": 7,
   "id": "60659ec0",
   "metadata": {},
   "outputs": [
    {
     "name": "stdout",
     "output_type": "stream",
     "text": [
      "The number shouldn't be an odd integer\n"
     ]
    }
   ],
   "source": [
    "#raise\n",
    "\n",
    "#Raise is a Keyword used to raise exceptions or errors.The raise keyword raises an error and stops the control flow '\n",
    "#of the program. \n",
    "\n",
    "a = 5\n",
    "try:\n",
    "    if a % 2 != 0:\n",
    "        raise Exception(\"The number shouldn't be an odd integer\")\n",
    "except Exception as e:\n",
    "    print(e)\n",
    "#raise is used in custom exception handling to throw used defined exception."
   ]
  },
  {
   "cell_type": "markdown",
   "id": "efae908f",
   "metadata": {},
   "source": [
    "# Q.5"
   ]
  },
  {
   "cell_type": "markdown",
   "id": "4dac214a",
   "metadata": {},
   "source": [
    "In Python, we can define custom exceptions by creating a new class that is derived from the built-in Exception class."
   ]
  },
  {
   "cell_type": "markdown",
   "id": "a1ab3fbc",
   "metadata": {},
   "source": [
    "We need custom exceptions as to catch and provide specific treatment to a subset of existing python exceptions.Custom exceptions will add information about project-related problems.Superclass Exceptions are created when a module needs to handle several distinct errors. "
   ]
  },
  {
   "cell_type": "code",
   "execution_count": 14,
   "id": "c762aedd",
   "metadata": {},
   "outputs": [
    {
     "name": "stdout",
     "output_type": "stream",
     "text": [
      "A New Exception occurred:  6\n"
     ]
    }
   ],
   "source": [
    "class MyError(Exception):\n",
    "    def __init__(self, value):\n",
    "        self.value = value\n",
    "        \n",
    "    def __str__(self):\n",
    "        return(repr(self.value))\n",
    "\n",
    "\n",
    "try:\n",
    "    raise(MyError(3*2))\n",
    "\n",
    "# Value of Exception is stored in error\n",
    "except MyError as error:\n",
    "    print('A New Exception occurred: ', error.value)\n"
   ]
  },
  {
   "cell_type": "markdown",
   "id": "9d9abc71",
   "metadata": {},
   "source": [
    "# Q.6"
   ]
  },
  {
   "cell_type": "code",
   "execution_count": 6,
   "id": "b31ac790",
   "metadata": {},
   "outputs": [
    {
     "name": "stdout",
     "output_type": "stream",
     "text": [
      "Enter your age 210\n",
      "entered age is very very high\n"
     ]
    }
   ],
   "source": [
    "class validateage(Exception):\n",
    "    \n",
    "    def __init__(self,msg):\n",
    "        self.msg=msg\n",
    "        \n",
    "def validatage(age):\n",
    "    if age<0:\n",
    "        raise validateage(\"entered age is negative\")\n",
    "    elif age>200:\n",
    "        raise validateage(\"entered age is very very high\")\n",
    "    else:\n",
    "        print(\"age is valid\")\n",
    "        \n",
    "try:\n",
    "    age=int(input(\"Enter your age \"))\n",
    "    validatage(age)\n",
    "except validateage as e:\n",
    "    print(e)"
   ]
  }
 ],
 "metadata": {
  "kernelspec": {
   "display_name": "Python 3 (ipykernel)",
   "language": "python",
   "name": "python3"
  },
  "language_info": {
   "codemirror_mode": {
    "name": "ipython",
    "version": 3
   },
   "file_extension": ".py",
   "mimetype": "text/x-python",
   "name": "python",
   "nbconvert_exporter": "python",
   "pygments_lexer": "ipython3",
   "version": "3.9.12"
  }
 },
 "nbformat": 4,
 "nbformat_minor": 5
}
