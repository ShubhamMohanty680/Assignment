{
 "cells": [
  {
   "cell_type": "markdown",
   "id": "43fc7b4e",
   "metadata": {},
   "source": [
    "# Q.1"
   ]
  },
  {
   "cell_type": "markdown",
   "id": "0b63ad77",
   "metadata": {},
   "source": [
    "open() function is used to open a file.The different modes of file of opening a file are as:\n",
    "\n",
    "1. Read Only (‘r’) : Open text file for reading. The handle is positioned at the beginning of the file. If the file does not exists, raises the I/O error. This is also the default mode in which a file is opened.\n",
    "\n",
    "\n",
    "2. Read and Write (‘r+’): Open the file for reading and writing. The handle is positioned at the beginning of the file. Raises I/O error if the file does not exist.\n",
    "\n",
    "\n",
    "3. Write Only (‘w’) : Open the file for writing. For the existing files, the data is truncated and over-written. The handle is positioned at the beginning of the file. Creates the file if the file does not exist.\n",
    "\n",
    "\n",
    "4. Write and Read (‘w+’) : Open the file for reading and writing. For an existing file, data is truncated and over-written. The handle is positioned at the beginning of the file.\n",
    "\n",
    "\n",
    "5. Append Only (‘a’): Open the file for writing. The file is created if it does not exist. The handle is positioned at the end of the file. The data being written will be inserted at the end, after the existing data.\n",
    "\n",
    "\n",
    "6. Append and Read (‘a+’) : Open the file for reading and writing. The file is created if it does not exist. The handle is positioned at the end of the file. The data being written will be inserted at the end, after the existing data."
   ]
  },
  {
   "cell_type": "markdown",
   "id": "6032e8b7",
   "metadata": {},
   "source": [
    "# Q.2"
   ]
  },
  {
   "cell_type": "markdown",
   "id": "2644a732",
   "metadata": {},
   "source": [
    "The close() method closes an open file.The close() method can be called more than once and if any operation is performed on a closed file it raises a ValueError. "
   ]
  },
  {
   "cell_type": "markdown",
   "id": "e1c58761",
   "metadata": {},
   "source": [
    "It’s important to close files in Python because files have limited resources managed by the operating system, making sure files are closed after use will protect against hard-to-debug issues like running out of file handles or experiencing corrupted data.\n",
    "\n",
    "For the most part, many changes to files in python do not go into effect until after the file is closed.It can slow down your program. Too many things open, and thus more used space in the RAM, will impact performance.\n"
   ]
  },
  {
   "cell_type": "markdown",
   "id": "8c970cac",
   "metadata": {},
   "source": [
    "# Q.3"
   ]
  },
  {
   "cell_type": "code",
   "execution_count": 1,
   "id": "be5451de",
   "metadata": {},
   "outputs": [],
   "source": [
    "f=open(\"test.txt\",'w')\n",
    "f.write(\"I want to become a Data Scientist\")\n",
    "f.close()"
   ]
  },
  {
   "cell_type": "code",
   "execution_count": 4,
   "id": "19a89e7a",
   "metadata": {},
   "outputs": [
    {
     "data": {
      "text/plain": [
       "'I want to become a Data Scientist'"
      ]
     },
     "execution_count": 4,
     "metadata": {},
     "output_type": "execute_result"
    }
   ],
   "source": [
    "f=open(\"test.txt\",'r')\n",
    "f.read()"
   ]
  },
  {
   "cell_type": "code",
   "execution_count": 5,
   "id": "741c744d",
   "metadata": {},
   "outputs": [],
   "source": [
    "f.close()"
   ]
  },
  {
   "cell_type": "markdown",
   "id": "c6a99377",
   "metadata": {},
   "source": [
    "# Q.4"
   ]
  },
  {
   "cell_type": "markdown",
   "id": "b3d61f77",
   "metadata": {},
   "source": [
    "read() : Returns the read bytes in form of a string. Reads n bytes, if no n specified, reads the entire file.\n",
    "\n",
    "readline() : Reads a line of the file and returns in form of a string.For specified n, reads at most n bytes. However, does not reads more than one line, even if n exceeds the length of the line.\n",
    "\n",
    "readlines() : Reads all the lines and return them as each line a string element in a list."
   ]
  },
  {
   "cell_type": "code",
   "execution_count": 16,
   "id": "ddd2fb3e",
   "metadata": {},
   "outputs": [
    {
     "name": "stdout",
     "output_type": "stream",
     "text": [
      "Output of Read function is \n",
      "This is Delhi \n",
      "This is Mumbai \n",
      "This is Jaipur \n",
      "\n",
      "Output of Readline function is \n",
      "This is Delhi \n",
      "\n",
      "Output of Read(9) function is \n",
      "This is D\n",
      "Output of Readline(9) function is \n",
      "This is D\n",
      "Output of Readlines function is \n",
      "['This is Delhi \\n']\n"
     ]
    }
   ],
   "source": [
    "\n",
    "file1 = open(\"myfile.txt\", \"w\")\n",
    "L = [\"This is Delhi \\n\", \"This is Mumbai \\n\", \"This is Jaipur \\n\"]\n",
    "\n",
    "# Writing data to a file\n",
    "file1.writelines(L)\n",
    "file1.close()\n",
    "\n",
    "file1 = open(\"myfile.txt\", \"r+\")\n",
    "\n",
    "print(\"Output of Read function is \")\n",
    "print(file1.read())\n",
    "\n",
    "\n",
    "# seek(n) takes the file handle to the nth byte from the beginning.\n",
    "\n",
    "file1.seek(0)\n",
    "print(\"Output of Readline function is \")\n",
    "print(file1.readline())\n",
    "\n",
    "\n",
    "file1.seek(0)\n",
    "\n",
    "# To show difference between read and readline\n",
    "print(\"Output of Read(9) function is \")\n",
    "print(file1.read(9))\n",
    "\n",
    "\n",
    "file1.seek(0)\n",
    "\n",
    "print(\"Output of Readline(9) function is \")\n",
    "print(file1.readline(9))\n",
    "\n",
    "file1.seek(0)\n",
    "\n",
    "# readlines function\n",
    "print(\"Output of Readlines function is \")\n",
    "print(file1.readlines(9))\n",
    "file1.close()"
   ]
  },
  {
   "cell_type": "markdown",
   "id": "2476542c",
   "metadata": {},
   "source": [
    "# Q.5"
   ]
  },
  {
   "cell_type": "markdown",
   "id": "c31b6d64",
   "metadata": {},
   "source": [
    "The with statement works with the open() function to open a file.This is because the with statement calls 2 built-in methods behind the scene – __enter()__ and __exit()__.The __exit()__ method closes the file when the operation you specify is done.the combination of with and open() because the with statement closes the file for you and you get to write less code."
   ]
  },
  {
   "cell_type": "markdown",
   "id": "9b5b76e6",
   "metadata": {},
   "source": [
    "the advantage of using with statement and open() together is that the with statement saves you from those leaks, making it easier to write clean code."
   ]
  },
  {
   "cell_type": "markdown",
   "id": "b9b269c5",
   "metadata": {},
   "source": [
    "The advantage of using a with statement is that it is guaranteed to close the file no matter how the nested block exits. If an exception occurs before the end of the block, it will close the file before the exception is caught by an outer exception handler."
   ]
  },
  {
   "cell_type": "markdown",
   "id": "671d65af",
   "metadata": {},
   "source": [
    "# Q.6"
   ]
  },
  {
   "cell_type": "code",
   "execution_count": 17,
   "id": "4a98ea09",
   "metadata": {},
   "outputs": [
    {
     "name": "stdout",
     "output_type": "stream",
     "text": [
      "Enter the name of the employee: Rahul\n",
      "Enter the name of the employee: Shyam\n",
      "Enter the name of the employee: Kishan\n",
      "Data is written into the file.\n"
     ]
    }
   ],
   "source": [
    "#write() function\n",
    "\n",
    "#write(): The write() function will write the content in the file without adding any extra characters.\n",
    "\n",
    "file = open(\"Employees.txt\", \"w\")\n",
    "\n",
    "for i in range(3):\n",
    "\n",
    "    name = input(\"Enter the name of the employee: \")\n",
    "    file.write(name)\n",
    "    file.write(\"\\n\")\n",
    "file.close()\n",
    "\n",
    "print(\"Data is written into the file.\")\n"
   ]
  },
  {
   "cell_type": "code",
   "execution_count": 19,
   "id": "47ed6321",
   "metadata": {},
   "outputs": [
    {
     "name": "stdout",
     "output_type": "stream",
     "text": [
      "Enter the name of the employee: Rahul\n",
      "Enter the name of the employee: Shyam\n",
      "Enter the name of the employee: Kishan\n",
      "Data is written into the file.\n"
     ]
    }
   ],
   "source": [
    "#writelines() function\n",
    "\n",
    "#writelines(): This function writes the content of a list to a file.\n",
    "\n",
    "file1 = open(\"Employees.txt\", \"w\")\n",
    "lst = []\n",
    "for i in range(3):\n",
    "    name = input(\"Enter the name of the employee: \")\n",
    "    lst.append(name + '\\n')\n",
    "      \n",
    "file1.writelines(lst)\n",
    "file1.close()\n",
    "print(\"Data is written into the file.\") "
   ]
  },
  {
   "cell_type": "markdown",
   "id": "bc56365f",
   "metadata": {},
   "source": [
    "The only difference between the write() and writelines() is that write() is used to write a string to an already opened file while writelines() method is used to write a list of strings in an opened file."
   ]
  }
 ],
 "metadata": {
  "kernelspec": {
   "display_name": "Python 3 (ipykernel)",
   "language": "python",
   "name": "python3"
  },
  "language_info": {
   "codemirror_mode": {
    "name": "ipython",
    "version": 3
   },
   "file_extension": ".py",
   "mimetype": "text/x-python",
   "name": "python",
   "nbconvert_exporter": "python",
   "pygments_lexer": "ipython3",
   "version": "3.9.12"
  }
 },
 "nbformat": 4,
 "nbformat_minor": 5
}
