{
 "cells": [
  {
   "cell_type": "markdown",
   "id": "375a2f0d",
   "metadata": {},
   "source": [
    "# Q.1"
   ]
  },
  {
   "cell_type": "code",
   "execution_count": 1,
   "id": "2bcf1005",
   "metadata": {},
   "outputs": [
    {
     "name": "stdout",
     "output_type": "stream",
     "text": [
      "Enter Number 6\n",
      "The factorial of 6 is 720\n"
     ]
    }
   ],
   "source": [
    "#The major difference between for loop and while loop is that in the case of for loop the number of iterations is known whereas \n",
    "#in the case of the while loop number of iterations is unknown and the statement will run until the condition is proved false.##\n",
    "#Both for loop and while loop carry different methods of execution and can be useful if they are used as per their merit. If \n",
    "#the iterations are known we use for loop and if the iterations are unknown, while loop is used.\n",
    "#The while loop is used when the initialization is complex and if the initialization is complex, for loop is used.\n",
    "\n",
    "#For Loop\n",
    "number=int(input(\"Enter Number \"))\n",
    "x=number\n",
    "factorial = 1\n",
    "for i in range(number,0,-1):\n",
    "    factorial*=i\n",
    "print(\"The factorial of\",x,\"is\",factorial)"
   ]
  },
  {
   "cell_type": "code",
   "execution_count": 2,
   "id": "e9382ec8",
   "metadata": {},
   "outputs": [
    {
     "name": "stdout",
     "output_type": "stream",
     "text": [
      "Enter Number 6\n",
      "The factorial of 6 is 720\n"
     ]
    }
   ],
   "source": [
    "#While Loop\n",
    "\n",
    "number=int(input(\"Enter Number \"))\n",
    "y=number\n",
    "factorial = 1\n",
    "while number > 0:\n",
    "    factorial = factorial*number\n",
    "    number -= 1\n",
    "print(\"The factorial of\",y,\"is\",factorial)"
   ]
  },
  {
   "cell_type": "markdown",
   "id": "173f4792",
   "metadata": {},
   "source": [
    "# Q.2"
   ]
  },
  {
   "cell_type": "code",
   "execution_count": 3,
   "id": "0fe71339",
   "metadata": {},
   "outputs": [
    {
     "name": "stdout",
     "output_type": "stream",
     "text": [
      "Sum of first 10 Natural Number = 55\n",
      "Product of first 10 Natural Number = 3628800\n"
     ]
    }
   ],
   "source": [
    "#Using For Loop\n",
    "\n",
    "start=1\n",
    "end=10\n",
    "sum=0\n",
    "product=1\n",
    "for i in range(start,end+1):\n",
    "    sum=sum+i\n",
    "    product=product*i\n",
    "print(\"Sum of first 10 Natural Number =\",sum)\n",
    "print(\"Product of first 10 Natural Number =\",product)"
   ]
  },
  {
   "cell_type": "code",
   "execution_count": 4,
   "id": "96b8cff1",
   "metadata": {},
   "outputs": [
    {
     "name": "stdout",
     "output_type": "stream",
     "text": [
      "Sum of first 10 Natural Number = 55\n",
      "Product of first 10 Natural Number = 3628800\n"
     ]
    }
   ],
   "source": [
    "#Using While Loop\n",
    "\n",
    "start=1\n",
    "end=10\n",
    "sum=0\n",
    "product=1\n",
    "while(start<=end):\n",
    "    sum=sum+start\n",
    "    product=product*start\n",
    "    start=start+1\n",
    "print(\"Sum of first 10 Natural Number =\",sum)\n",
    "print(\"Product of first 10 Natural Number =\",product)"
   ]
  },
  {
   "cell_type": "markdown",
   "id": "6e7ed4c8",
   "metadata": {},
   "source": [
    "# Q.3"
   ]
  },
  {
   "cell_type": "code",
   "execution_count": 5,
   "id": "c20f7492",
   "metadata": {},
   "outputs": [
    {
     "name": "stdout",
     "output_type": "stream",
     "text": [
      "Units Consumed Per Month 310\n",
      "Total Billed Amount is 2250.0\n"
     ]
    }
   ],
   "source": [
    "units=int(input(\"Units Consumed Per Month \"))\n",
    "if units<=100:\n",
    "    amount=4.5*units\n",
    "elif units<100 and units<=200:\n",
    "    amount=100*4.5+(units-100)*6\n",
    "elif units<200 and units<=300:\n",
    "    amount=100*4.5+100*6+(units-200)*10\n",
    "else:\n",
    "    amount=100*4.5+100*6+100*10+(units-300)*20\n",
    "print(\"Total Billed Amount is\",amount)"
   ]
  },
  {
   "cell_type": "markdown",
   "id": "94fa8517",
   "metadata": {},
   "source": [
    "# Q.4"
   ]
  },
  {
   "cell_type": "code",
   "execution_count": 15,
   "id": "90343158",
   "metadata": {},
   "outputs": [
    {
     "name": "stdout",
     "output_type": "stream",
     "text": [
      "The new list of cube divisible by 4 or 5 is:\n",
      "\n",
      " [8, 64, 125, 216, 512, 1000, 1728, 2744, 3375, 4096, 5832, 8000, 10648, 13824, 15625, 17576, 21952, 27000, 32768, 39304, 42875, 46656, 54872, 64000, 74088, 85184, 91125, 97336, 110592, 125000, 140608, 157464, 166375, 175616, 195112, 216000, 238328, 262144, 274625, 287496, 314432, 343000, 373248, 405224, 421875, 438976, 474552, 512000, 551368, 592704, 614125, 636056, 681472, 729000, 778688, 830584, 857375, 884736, 941192, 1000000]\n"
     ]
    }
   ],
   "source": [
    "#By Using For Loop\n",
    "\n",
    "l1=[]\n",
    "l2=[]\n",
    "for i in range(1,101): #Creating list for elements from 1 to 100\n",
    "    l1.append(i)\n",
    "for j in l1:\n",
    "    if (j**3)%4==0 or (j**3)%5==0:\n",
    "        l2.append(j**3)\n",
    "print(\"The new list of cubes divisible by 4 or 5 is:\\n\\n\",l2)\n"
   ]
  },
  {
   "cell_type": "code",
   "execution_count": 16,
   "id": "d2bcabc8",
   "metadata": {},
   "outputs": [
    {
     "name": "stdout",
     "output_type": "stream",
     "text": [
      "The new list of cube divisible by 4 or 5 is:\n",
      "\n",
      " [8, 64, 125, 216, 512, 1000, 1728, 2744, 3375, 4096, 5832, 8000, 10648, 13824, 15625, 17576, 21952, 27000, 32768, 39304, 42875, 46656, 54872, 64000, 74088, 85184, 91125, 97336, 110592, 125000, 140608, 157464, 166375, 175616, 195112, 216000, 238328, 262144, 274625, 287496, 314432, 343000, 373248, 405224, 421875, 438976, 474552, 512000, 551368, 592704, 614125, 636056, 681472, 729000, 778688, 830584, 857375, 884736, 941192, 1000000]\n"
     ]
    }
   ],
   "source": [
    "#By Using while Loop\n",
    "\n",
    "l1=[]\n",
    "l2=[]\n",
    "i=1\n",
    "while(i<=100):\n",
    "    l1.append(i)\n",
    "    if (i**3)%4==0 or (i**3)%5==0:\n",
    "        l2.append(i**3)\n",
    "    i+=1\n",
    "print(\"The new list of cubes divisible by 4 or 5 is:\\n\\n\",l2)"
   ]
  },
  {
   "cell_type": "markdown",
   "id": "e8aaf193",
   "metadata": {},
   "source": [
    "# Q.5"
   ]
  },
  {
   "cell_type": "code",
   "execution_count": 40,
   "id": "9108e6e6",
   "metadata": {},
   "outputs": [
    {
     "name": "stdout",
     "output_type": "stream",
     "text": [
      "The number of vowels in the given string is: 12\n"
     ]
    }
   ],
   "source": [
    "string=\"I want to become a data scientist\"\n",
    "vowels=\"aeiou\"\n",
    "count=0\n",
    "for char in s.lower():\n",
    "    if char in vowels:\n",
    "        count+=1\n",
    "print(\"The number of vowels in the given string is:\",count)"
   ]
  }
 ],
 "metadata": {
  "kernelspec": {
   "display_name": "Python 3 (ipykernel)",
   "language": "python",
   "name": "python3"
  },
  "language_info": {
   "codemirror_mode": {
    "name": "ipython",
    "version": 3
   },
   "file_extension": ".py",
   "mimetype": "text/x-python",
   "name": "python",
   "nbconvert_exporter": "python",
   "pygments_lexer": "ipython3",
   "version": "3.9.12"
  }
 },
 "nbformat": 4,
 "nbformat_minor": 5
}
