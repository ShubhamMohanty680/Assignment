{
 "cells": [
  {
   "cell_type": "markdown",
   "id": "d010e055",
   "metadata": {},
   "source": [
    "# Q.1"
   ]
  },
  {
   "cell_type": "markdown",
   "id": "5822d5bc",
   "metadata": {},
   "source": [
    "Abstraction is used to hide the internal functionality of the function from the users. The users only interact with the basic implementation of the function, but inner working is hidden. User is familiar with that \"what function does\" but they don't know \"how it does.\""
   ]
  },
  {
   "cell_type": "markdown",
   "id": "cd7f611d",
   "metadata": {},
   "source": [
    "Your car is a great example of abstraction. You can start a car by turning the key or pressing the start button. You don’t need to know how the engine is getting started, what all components your car has. The car internal implementation and complex logic is completely hidden from the user."
   ]
  },
  {
   "cell_type": "markdown",
   "id": "4d16961d",
   "metadata": {},
   "source": [
    "# Q.2"
   ]
  },
  {
   "cell_type": "markdown",
   "id": "74ba53ab",
   "metadata": {},
   "source": [
    "Abstraction refers to the process of hiding the implementation details of an object and presenting only the relevant information to the outside world. It helps in reducing the complexity of an object and making it easier to understand and use."
   ]
  },
  {
   "cell_type": "markdown",
   "id": "dafb3272",
   "metadata": {},
   "source": [
    "Encapsulation refers to the process of binding data and the related methods that operate on that data as a single unit or object. It provides a protective shield to the data of an object and restricts the direct access to the data from outside the object. This helps in ensuring the data integrity and security of an object."
   ]
  },
  {
   "cell_type": "markdown",
   "id": "ca04d5dc",
   "metadata": {},
   "source": [
    "For example, consider a bank account as a object in OOP. The abstraction of the bank account object could be represented by its properties such as account number and balance, and methods such as deposit and withdraw. The user of this bank account object does not need to know the internal workings of how the bank manages the account, such as how the deposit or withdraw methods update the balance."
   ]
  },
  {
   "cell_type": "markdown",
   "id": "b70132f9",
   "metadata": {},
   "source": [
    "The encapsulation of the bank account object could be achieved by declaring the properties such as account balance as private, and providing the methods such as deposit and withdraw as public. This encapsulation ensures that the user can only access the account information through the provided methods and cannot directly access or modify the account number or balance properties."
   ]
  },
  {
   "cell_type": "markdown",
   "id": "cbf3a519",
   "metadata": {},
   "source": [
    "# Q.3"
   ]
  },
  {
   "cell_type": "markdown",
   "id": "2af1f4a8",
   "metadata": {},
   "source": [
    "The abc stands for abstract base class module.It provides a way to define abstract base classes (ABCs) in Python, which are classes that cannot be instantiated(no object creation) and are meant to be subclassed(inherit). ABCs provide a way to specify an interface that must be implemented by its concrete subclasses."
   ]
  },
  {
   "cell_type": "markdown",
   "id": "52da25a9",
   "metadata": {},
   "source": [
    "The abc module is used for creating abstract base classes in Python, which can be useful in situations where you want to define a common interface for a set of related classes. By defining an ABC, you can enforce that all concrete implementations of the class adhere to a certain interface. This helps in ensuring that the concrete implementations have certain properties, methods, or behaviors and makes it easier to use them interchangeably."
   ]
  },
  {
   "cell_type": "markdown",
   "id": "3f69dccd",
   "metadata": {},
   "source": [
    "# Q.4"
   ]
  },
  {
   "cell_type": "markdown",
   "id": "06914f48",
   "metadata": {},
   "source": [
    "Data Abstraction is a technique to hide the internal implementation details of an object and present only the relevant information to the outside world. There are several ways to achieve data abstraction in Object-Oriented Programming (OOP):\n",
    "\n",
    "Encapsulation: This is the process of binding data and the methods that operate on that data within a single unit or object. By encapsulating data within an object, you can restrict direct access to the data from outside the object and ensure data integrity and security.\n",
    "\n",
    "Access Modifiers: Access modifiers such as private, protected, and public can be used to control the accessibility of data members and methods within a class. By declaring data members as private, you can restrict direct access to the data from outside the object, thereby implementing data abstraction.\n",
    "\n",
    "Abstract Classes: Abstract classes are classes that cannot be instantiated and are meant to be subclassed. They provide a way to define an interface that must be implemented by its concrete subclasses. By defining abstract classes and methods, you can enforce a certain interface on the concrete implementations, thereby achieving data abstraction.\n",
    "\n",
    "Interfaces: Interfaces are similar to abstract classes in that they define a set of methods that must be implemented by any class that implements the interface. Interfaces can be used to achieve data abstraction by defining a common interface for a set of related classes."
   ]
  },
  {
   "cell_type": "markdown",
   "id": "c0d14f82",
   "metadata": {},
   "source": [
    "# Q.5"
   ]
  },
  {
   "cell_type": "markdown",
   "id": "590916a3",
   "metadata": {},
   "source": [
    "No, we cannot create an instance of an abstract class. An abstract class is a class that is meant to be subclassed and cannot be instantiated directly."
   ]
  },
  {
   "cell_type": "markdown",
   "id": "7d090040",
   "metadata": {},
   "source": [
    "The purpose of an abstract class is to provide a common interface for a set of related classes. By defining an abstract class, you can enforce certain properties, methods, or behaviors that must be present in all concrete implementations of the class. However, an abstract class itself is not a complete implementation, and therefore cannot be instantiated.\n",
    "\n",
    "To use an abstract class, you must create a concrete implementation of the class by subclassing it and providing a concrete implementation for the abstract methods defined in the abstract class. Only then can you create instances of the concrete implementation and use them in your code."
   ]
  }
 ],
 "metadata": {
  "kernelspec": {
   "display_name": "Python 3 (ipykernel)",
   "language": "python",
   "name": "python3"
  },
  "language_info": {
   "codemirror_mode": {
    "name": "ipython",
    "version": 3
   },
   "file_extension": ".py",
   "mimetype": "text/x-python",
   "name": "python",
   "nbconvert_exporter": "python",
   "pygments_lexer": "ipython3",
   "version": "3.9.12"
  }
 },
 "nbformat": 4,
 "nbformat_minor": 5
}
