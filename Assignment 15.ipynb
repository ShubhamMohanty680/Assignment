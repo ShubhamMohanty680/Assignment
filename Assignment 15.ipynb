{
 "cells": [
  {
   "cell_type": "markdown",
   "id": "8a876898",
   "metadata": {},
   "source": [
    "# Q.1"
   ]
  },
  {
   "cell_type": "markdown",
   "id": "edf5c5ff",
   "metadata": {},
   "source": [
    "A database is a collection of structured data that is organized in a way that enables efficient storage, retrieval, and manipulation of information. Databases are commonly used in software applications, websites, and other information systems to store and manage large amounts of data.\n",
    "\n",
    "SQL (Structured Query Language) and NoSQL (Not Only SQL) are two different types of databases that have different architectures, data models, and query languages.\n",
    "\n",
    "SQL databases are relational databases that store data in tables with rows and columns. They use a standardized query language, SQL, to manipulate and retrieve data. SQL databases are ideal for structured data with well-defined relationships between different data points. Some examples of SQL databases include MySQL, PostgreSQL, and Oracle.\n",
    "\n",
    "NoSQL databases, on the other hand, are non-relational databases that store data in a more flexible way. They can handle unstructured, semi-structured, and structured data, and they do not require a fixed schema or data model. NoSQL databases use different data models, such as key-value, document, graph, or column-family. Examples of NoSQL databases include MongoDB, Cassandra, and Neo4j.\n",
    "\n",
    "The choice between SQL and NoSQL databases depends on the specific needs of the application or system. SQL databases are good for handling structured data that follows a specific schema, while NoSQL databases are more flexible and scalable for handling unstructured or semi-structured data. NoSQL databases are often preferred for web-scale applications and big data projects, while SQL databases are commonly used in traditional enterprise applications."
   ]
  },
  {
   "cell_type": "markdown",
   "id": "4c8629bd",
   "metadata": {},
   "source": [
    "# Q.2"
   ]
  },
  {
   "cell_type": "markdown",
   "id": "6468a442",
   "metadata": {},
   "source": [
    "DDL stands for Data Definition Language, which is a set of SQL commands that are used to define and manage the structure of database objects such as tables, indexes, views, and constraints. DDL statements are used to create, modify, and delete database objects, as well as to grant or revoke permissions on those objects.\n",
    "\n",
    "Here are some examples of DDL statements and their uses:\n",
    "\n",
    "CREATE: The CREATE statement is used to create new database objects, such as tables, views, indexes, and stored procedures. For example, the following SQL statement creates a new table called \"users\" with three columns: \"id\", \"name\", and \"email\":"
   ]
  },
  {
   "cell_type": "code",
   "execution_count": null,
   "id": "8b842eee",
   "metadata": {},
   "outputs": [],
   "source": [
    "CREATE TABLE users (\n",
    "  id INT PRIMARY KEY,\n",
    "  name VARCHAR(50),\n",
    "  email VARCHAR(100)\n",
    ");"
   ]
  },
  {
   "cell_type": "markdown",
   "id": "65a31ce1",
   "metadata": {},
   "source": [
    "DROP: The DROP statement is used to remove an existing database object. For example, the following SQL statement drops the \"users\" table that was created in the previous example:"
   ]
  },
  {
   "cell_type": "code",
   "execution_count": null,
   "id": "955a7d03",
   "metadata": {},
   "outputs": [],
   "source": [
    "DROP TABLE users;"
   ]
  },
  {
   "cell_type": "markdown",
   "id": "7ffd42c7",
   "metadata": {},
   "source": [
    "ALTER: The ALTER statement is used to modify an existing database object, such as a table or a view. For example, the following SQL statement adds a new column called \"age\" to the \"users\" table:\n",
    "\n",
    "ALTER TABLE users ADD COLUMN age INT;\n",
    "\n",
    "TRUNCATE: The TRUNCATE statement is used to delete all rows from a table, but the table structure remains intact. For example, the following SQL statement deletes all rows from the \"users\" table:"
   ]
  },
  {
   "cell_type": "code",
   "execution_count": null,
   "id": "c103b1e3",
   "metadata": {},
   "outputs": [],
   "source": [
    "TRUNCATE TABLE users;"
   ]
  },
  {
   "cell_type": "markdown",
   "id": "a3ba8be3",
   "metadata": {},
   "source": [
    "# Q.3"
   ]
  },
  {
   "cell_type": "markdown",
   "id": "8dc64ba5",
   "metadata": {},
   "source": [
    "DML stands for Data Manipulation Language, which is a set of SQL commands used to manipulate and modify the data stored in a database. DML statements are used to insert, update, delete, and retrieve data from a database. Here are some examples of DML statements and their uses:\n",
    "\n",
    "INSERT: The INSERT statement is used to add new rows to a table. For example, the following SQL statement inserts a new record into a table named \"users\" with the values \"John Doe\" for the name column, \"johndoe@example.com\" for the email column, and 25 for the age column:"
   ]
  },
  {
   "cell_type": "code",
   "execution_count": null,
   "id": "4336500d",
   "metadata": {},
   "outputs": [],
   "source": [
    "INSERT INTO users (name, email, age) VALUES ('John Doe', 'johndoe@example.com', 25);"
   ]
  },
  {
   "cell_type": "markdown",
   "id": "9f1257fd",
   "metadata": {},
   "source": [
    "UPDATE: The UPDATE statement is used to modify existing data in a table. For example, the following SQL statement updates the email of the user with the name \"John Doe\" to \"john.doe@example.com\":"
   ]
  },
  {
   "cell_type": "code",
   "execution_count": null,
   "id": "088fae31",
   "metadata": {},
   "outputs": [],
   "source": [
    "UPDATE users SET email = 'john.doe@example.com' WHERE name = 'John Doe';"
   ]
  },
  {
   "cell_type": "markdown",
   "id": "d67f8e84",
   "metadata": {},
   "source": [
    "DELETE: The DELETE statement is used to remove existing data from a table. For example, the following SQL statement deletes the user with the name \"John Doe\" from the \"users\" table:"
   ]
  },
  {
   "cell_type": "code",
   "execution_count": null,
   "id": "d55b6934",
   "metadata": {},
   "outputs": [],
   "source": [
    "DELETE FROM users WHERE name = 'John Doe';"
   ]
  },
  {
   "cell_type": "markdown",
   "id": "bd8d45a7",
   "metadata": {},
   "source": [
    "# Q.4"
   ]
  },
  {
   "cell_type": "markdown",
   "id": "999b8fe0",
   "metadata": {},
   "source": [
    "QL stands for Data Query Language, which is a subset of SQL used to retrieve data from a database. DQL statements are used to query the database and retrieve specific data based on specified criteria. The most commonly used DQL statement is SELECT.\n",
    "\n",
    "SELECT is used to retrieve data from one or more tables in a database. It allows you to specify the columns to retrieve, the table or tables to retrieve them from, and any conditions that the retrieved data must meet. Here's an example of a SELECT statement:"
   ]
  },
  {
   "cell_type": "code",
   "execution_count": null,
   "id": "41f3aa88",
   "metadata": {},
   "outputs": [],
   "source": [
    "SELECT name, email FROM users WHERE name==\"shubham\";"
   ]
  },
  {
   "cell_type": "markdown",
   "id": "8c44d861",
   "metadata": {},
   "source": [
    "# Q.5"
   ]
  },
  {
   "cell_type": "markdown",
   "id": "b7bd73de",
   "metadata": {},
   "source": [
    "A primary key is a column or set of columns in a table that uniquely identifies each row or record in that table. It ensures that each row in the table is uniquely identifiable and is used to enforce data integrity constraints. A primary key column cannot contain null values and must have a unique value for each row."
   ]
  },
  {
   "cell_type": "markdown",
   "id": "a592570c",
   "metadata": {},
   "source": [
    "Here's an example of a table with a primary key:"
   ]
  },
  {
   "cell_type": "code",
   "execution_count": null,
   "id": "80d9e6e0",
   "metadata": {},
   "outputs": [],
   "source": [
    "CREATE TABLE students (\n",
    "    id INT PRIMARY KEY,\n",
    "    name VARCHAR(50),\n",
    "    email VARCHAR(100),\n",
    "    age INT\n",
    ");"
   ]
  },
  {
   "cell_type": "markdown",
   "id": "16882e0c",
   "metadata": {},
   "source": [
    "A foreign key is a column or set of columns in a table that refers to the primary key of another table. It establishes a link between two tables, which allows data to be retrieved from multiple tables using a single query. A foreign key is used to enforce referential integrity constraints, which ensure that the data in the foreign key column matches the data in the primary key column of the other table.\n",
    "\n",
    "Here's an example of a table with a foreign key:"
   ]
  },
  {
   "cell_type": "code",
   "execution_count": null,
   "id": "14fc9266",
   "metadata": {},
   "outputs": [],
   "source": [
    "CREATE TABLE courses (\n",
    "    id INT PRIMARY KEY,\n",
    "    name VARCHAR(50),\n",
    "    instructor_id INT,\n",
    "    FOREIGN KEY (instructor_id) REFERENCES instructors(id)\n",
    ");"
   ]
  },
  {
   "cell_type": "markdown",
   "id": "4484b68e",
   "metadata": {},
   "source": [
    "# Q.6"
   ]
  },
  {
   "cell_type": "markdown",
   "id": "b6113ce4",
   "metadata": {},
   "source": [
    "The python code for connection to MySQL python is as follows:"
   ]
  },
  {
   "cell_type": "code",
   "execution_count": null,
   "id": "a58ec6a6",
   "metadata": {},
   "outputs": [],
   "source": [
    "import mysql.connector\n",
    "\n",
    "mydb = mysql.connector.connect(\n",
    "  host=\"localhost\",\n",
    "  user=\"username\",\n",
    "  password=\"password\",\n",
    "  database=\"database\"\n",
    ")\n",
    "\n",
    "mycursor = mydb.cursor()\n",
    "mydb.close()"
   ]
  },
  {
   "cell_type": "markdown",
   "id": "f629524f",
   "metadata": {},
   "source": [
    "In this code, we first import the mysql.connector module and use the connect() method to establish a connection to the MySQL database. We need to provide the database connection details, such as the host, username, password, and database name.\n",
    "\n",
    "After establishing the connection, we create a cursor object using the cursor() method of the database connection object. The cursor object allows us to execute SQL statements on the database and the object is used for reading the data from the database in a row by row manner.\n",
    "\n",
    "The execute() method is used to execute an SQL statement on the database using the cursor object. It takes an SQL statement as its parameter and returns the result of the statement, if any. Here's an example of how to use the execute() method to execute a SELECT statement:"
   ]
  },
  {
   "cell_type": "code",
   "execution_count": null,
   "id": "9ad42da9",
   "metadata": {},
   "outputs": [],
   "source": [
    "import mysql.connector\n",
    "\n",
    "mydb = mysql.connector.connect(\n",
    "  host=\"localhost\",\n",
    "  user=\"username\",\n",
    "  password=\"password\",\n",
    "  database=\"database\"\n",
    ")\n",
    "\n",
    "mycursor = mydb.cursor()\n",
    "mycursor.execute( \"SELECT * FROM customers\")\n",
    "for x in mycursor.fetchall():\n",
    "    print(x)\n",
    "mydb.close()"
   ]
  },
  {
   "cell_type": "markdown",
   "id": "ad2595aa",
   "metadata": {},
   "source": [
    "The fetchall() method is used to fetch all the rows returned by the SELECT statement. It returns a list of tuples, where each tuple represents a row in the result set. You can then loop through the result set and print each row, as shown in the code above.\n",
    "\n",
    "In summary, the cursor() method is used to create a cursor object, which allows you to execute SQL statements on the database. The execute() method is used to execute an SQL statement on the database using the cursor object, and the fetchall() method is used to retrieve the results of the SQL statement."
   ]
  },
  {
   "cell_type": "markdown",
   "id": "71c64a98",
   "metadata": {},
   "source": [
    "# Q.7"
   ]
  },
  {
   "cell_type": "markdown",
   "id": "beb31c2d",
   "metadata": {},
   "source": [
    "The order of execution of SQL clauses in an SQL query can be summarized as follows:\n",
    "\n",
    "FROM clause: The FROM clause specifies the table or tables from which the data will be retrieved. If multiple tables are used, they may be joined using the JOIN clause.\n",
    "\n",
    "WHERE clause: The WHERE clause filters the data based on a specified condition or set of conditions. It is used to retrieve only the rows that meet the specified criteria.\n",
    "\n",
    "GROUP BY clause: The GROUP BY clause is used to group the result set by one or more columns. It is often used in conjunction with aggregate functions, such as COUNT, SUM, AVG, etc.\n",
    "\n",
    "HAVING clause: The HAVING clause is used to filter the result set based on a specified condition or set of conditions. It is similar to the WHERE clause, but it is applied after the data has been grouped by the GROUP BY clause.\n",
    "\n",
    "SELECT clause: The SELECT clause specifies the columns that will be included in the result set. It can also be used to apply functions or expressions to the data, such as CONCAT, DATE_FORMAT, etc.\n",
    "\n",
    "ORDER BY clause: The ORDER BY clause is used to sort the result set based on one or more columns. It can sort the data in ascending or descending order.\n",
    "\n",
    "LIMIT clause: The LIMIT clause is used to limit the number of rows returned by the query. It is often used in conjunction with the ORDER BY clause to retrieve the top N rows based on a specified criteria."
   ]
  }
 ],
 "metadata": {
  "kernelspec": {
   "display_name": "Python 3 (ipykernel)",
   "language": "python",
   "name": "python3"
  },
  "language_info": {
   "codemirror_mode": {
    "name": "ipython",
    "version": 3
   },
   "file_extension": ".py",
   "mimetype": "text/x-python",
   "name": "python",
   "nbconvert_exporter": "python",
   "pygments_lexer": "ipython3",
   "version": "3.9.12"
  }
 },
 "nbformat": 4,
 "nbformat_minor": 5
}
