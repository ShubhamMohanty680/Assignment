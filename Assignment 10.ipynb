{
 "cells": [
  {
   "cell_type": "markdown",
   "id": "d1ce7e4f",
   "metadata": {},
   "source": [
    "# Q.1"
   ]
  },
  {
   "cell_type": "code",
   "execution_count": 20,
   "id": "878bf67d",
   "metadata": {},
   "outputs": [],
   "source": [
    "class vehicle:\n",
    "    def __init__(self,name_of_vehicle,max_speed,average_of_vehicle):\n",
    "        self.name_of_vehicle=name_of_vehicle\n",
    "        self.max_speed=max_speed\n",
    "        self.average_of_vehicle=average_of_vehicle"
   ]
  },
  {
   "cell_type": "markdown",
   "id": "10d6cc31",
   "metadata": {},
   "source": [
    "# Q.2"
   ]
  },
  {
   "cell_type": "code",
   "execution_count": 23,
   "id": "f59fd6bf",
   "metadata": {},
   "outputs": [],
   "source": [
    "class car(vehicle):\n",
    "    def seating_capacity(self,capacity):\n",
    "        self.capacity=capacity\n",
    "        return self.name_of_vehicle,self.capacity"
   ]
  },
  {
   "cell_type": "code",
   "execution_count": 24,
   "id": "bdc18b40",
   "metadata": {},
   "outputs": [
    {
     "data": {
      "text/plain": [
       "('Volvo XC90', 5)"
      ]
     },
     "execution_count": 24,
     "metadata": {},
     "output_type": "execute_result"
    }
   ],
   "source": [
    "car_obj=car(\"Volvo XC90\",220,40)\n",
    "car_obj.seating_capacity(5)"
   ]
  },
  {
   "cell_type": "markdown",
   "id": "b95f32a6",
   "metadata": {},
   "source": [
    "# Q.3"
   ]
  },
  {
   "cell_type": "markdown",
   "id": "5d68d7b3",
   "metadata": {},
   "source": [
    "Multiple inheritance is a feature of object-oriented programming (OOP) languages where a class can inherit properties and methods from more than one parent class. In other words, a class can inherit from multiple classes, thus inheriting the attributes and behaviors of all its parent classes."
   ]
  },
  {
   "cell_type": "code",
   "execution_count": 29,
   "id": "d54a4ff4",
   "metadata": {},
   "outputs": [
    {
     "name": "stdout",
     "output_type": "stream",
     "text": [
      "Parent1 method\n",
      "Parent2 method\n"
     ]
    }
   ],
   "source": [
    "class Parent1:\n",
    "    def method1(self):\n",
    "        print(\"Parent1 method\")\n",
    "class Parent2:\n",
    "    def method2(self):\n",
    "        print(\"Parent2 method\")\n",
    "class Child(Parent1,Parent2):\n",
    "    def method3(self):\n",
    "        print(\"Child method\")\n",
    "child_obj=Child()\n",
    "child_obj.method1()\n",
    "child_obj.method2()"
   ]
  },
  {
   "cell_type": "markdown",
   "id": "e8816eec",
   "metadata": {},
   "source": [
    "# Q.4"
   ]
  },
  {
   "cell_type": "markdown",
   "id": "ec996531",
   "metadata": {},
   "source": [
    "Getters: These are the methods used in Object-Oriented Programming (OOPS) which helps to access the private attributes from a class.\n",
    "\n",
    "\n",
    "Setters: These are the methods used in OOPS feature which helps to set the value to private attributes in a class.\n",
    "\n",
    "Basically, the main purpose of using getters and setters in object-oriented programs is to ensure data encapsulation."
   ]
  },
  {
   "cell_type": "code",
   "execution_count": 30,
   "id": "9fb8d56d",
   "metadata": {},
   "outputs": [],
   "source": [
    "class bike:\n",
    "    def __init__(self,Model,Year):\n",
    "        self.__Model=Model\n",
    "        self.__Year=Year\n",
    "    def get_details(self):\n",
    "        return self.__Model,self.__Year\n",
    "    def set_details(self,Model,Year):\n",
    "        self.__Model=Model\n",
    "        self.__Year=Year\n"
   ]
  },
  {
   "cell_type": "code",
   "execution_count": 33,
   "id": "755e53a0",
   "metadata": {},
   "outputs": [
    {
     "name": "stdout",
     "output_type": "stream",
     "text": [
      "('Pulsar 150', 2022)\n",
      "('Fazer', 2012)\n"
     ]
    }
   ],
   "source": [
    "b=bike(\"Pulsar 150\",2022)\n",
    "print(b.get_details())\n",
    "b.set_details(\"Fazer\",2012)\n",
    "print(b.get_details())"
   ]
  },
  {
   "cell_type": "markdown",
   "id": "84facf3f",
   "metadata": {},
   "source": [
    "# Q.5"
   ]
  },
  {
   "cell_type": "markdown",
   "id": "24d3af7b",
   "metadata": {},
   "source": [
    "Method overriding is an ability of any object-oriented programming language that allows a subclass or child class to provide a specific implementation of a method that is already provided by one of its super-classes or parent classes."
   ]
  },
  {
   "cell_type": "code",
   "execution_count": 39,
   "id": "0d6bf318",
   "metadata": {},
   "outputs": [],
   "source": [
    "class Parent():\n",
    "      \n",
    "    def __init__(self):\n",
    "        self.value = \"Inside Parent\"\n",
    "        \n",
    "    def show(self):\n",
    "        print(self.value)\n",
    "          \n",
    "class Child(Parent):\n",
    "    def __init__(self):\n",
    "        self.value = \"Inside Child\"\n",
    "    \n",
    "    def show(self):  #same method used is used in parent class so called method overriding.\n",
    "        print(self.value)"
   ]
  },
  {
   "cell_type": "code",
   "execution_count": 38,
   "id": "4ad43635",
   "metadata": {},
   "outputs": [
    {
     "name": "stdout",
     "output_type": "stream",
     "text": [
      "Inside Parent\n",
      "Inside Child\n"
     ]
    }
   ],
   "source": [
    "obj1=Parent()\n",
    "obj2=Child()\n",
    "obj1.show()\n",
    "obj2.show()"
   ]
  }
 ],
 "metadata": {
  "kernelspec": {
   "display_name": "Python 3 (ipykernel)",
   "language": "python",
   "name": "python3"
  },
  "language_info": {
   "codemirror_mode": {
    "name": "ipython",
    "version": 3
   },
   "file_extension": ".py",
   "mimetype": "text/x-python",
   "name": "python",
   "nbconvert_exporter": "python",
   "pygments_lexer": "ipython3",
   "version": "3.9.12"
  }
 },
 "nbformat": 4,
 "nbformat_minor": 5
}
