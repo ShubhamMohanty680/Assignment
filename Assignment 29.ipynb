{
 "cells": [
  {
   "cell_type": "markdown",
   "id": "0dbf6f7b",
   "metadata": {},
   "source": [
    "# Q.1"
   ]
  },
  {
   "cell_type": "code",
   "execution_count": 2,
   "id": "bc58e738",
   "metadata": {},
   "outputs": [
    {
     "data": {
      "text/html": [
       "<div class=\"bk-root\">\n",
       "        <a href=\"https://bokeh.org\" target=\"_blank\" class=\"bk-logo bk-logo-small bk-logo-notebook\"></a>\n",
       "        <span id=\"1003\">Loading BokehJS ...</span>\n",
       "    </div>\n"
      ]
     },
     "metadata": {},
     "output_type": "display_data"
    },
    {
     "data": {
      "application/javascript": [
       "(function(root) {\n",
       "  function now() {\n",
       "    return new Date();\n",
       "  }\n",
       "\n",
       "  const force = true;\n",
       "\n",
       "  if (typeof root._bokeh_onload_callbacks === \"undefined\" || force === true) {\n",
       "    root._bokeh_onload_callbacks = [];\n",
       "    root._bokeh_is_loading = undefined;\n",
       "  }\n",
       "\n",
       "const JS_MIME_TYPE = 'application/javascript';\n",
       "  const HTML_MIME_TYPE = 'text/html';\n",
       "  const EXEC_MIME_TYPE = 'application/vnd.bokehjs_exec.v0+json';\n",
       "  const CLASS_NAME = 'output_bokeh rendered_html';\n",
       "\n",
       "  /**\n",
       "   * Render data to the DOM node\n",
       "   */\n",
       "  function render(props, node) {\n",
       "    const script = document.createElement(\"script\");\n",
       "    node.appendChild(script);\n",
       "  }\n",
       "\n",
       "  /**\n",
       "   * Handle when an output is cleared or removed\n",
       "   */\n",
       "  function handleClearOutput(event, handle) {\n",
       "    const cell = handle.cell;\n",
       "\n",
       "    const id = cell.output_area._bokeh_element_id;\n",
       "    const server_id = cell.output_area._bokeh_server_id;\n",
       "    // Clean up Bokeh references\n",
       "    if (id != null && id in Bokeh.index) {\n",
       "      Bokeh.index[id].model.document.clear();\n",
       "      delete Bokeh.index[id];\n",
       "    }\n",
       "\n",
       "    if (server_id !== undefined) {\n",
       "      // Clean up Bokeh references\n",
       "      const cmd_clean = \"from bokeh.io.state import curstate; print(curstate().uuid_to_server['\" + server_id + \"'].get_sessions()[0].document.roots[0]._id)\";\n",
       "      cell.notebook.kernel.execute(cmd_clean, {\n",
       "        iopub: {\n",
       "          output: function(msg) {\n",
       "            const id = msg.content.text.trim();\n",
       "            if (id in Bokeh.index) {\n",
       "              Bokeh.index[id].model.document.clear();\n",
       "              delete Bokeh.index[id];\n",
       "            }\n",
       "          }\n",
       "        }\n",
       "      });\n",
       "      // Destroy server and session\n",
       "      const cmd_destroy = \"import bokeh.io.notebook as ion; ion.destroy_server('\" + server_id + \"')\";\n",
       "      cell.notebook.kernel.execute(cmd_destroy);\n",
       "    }\n",
       "  }\n",
       "\n",
       "  /**\n",
       "   * Handle when a new output is added\n",
       "   */\n",
       "  function handleAddOutput(event, handle) {\n",
       "    const output_area = handle.output_area;\n",
       "    const output = handle.output;\n",
       "\n",
       "    // limit handleAddOutput to display_data with EXEC_MIME_TYPE content only\n",
       "    if ((output.output_type != \"display_data\") || (!Object.prototype.hasOwnProperty.call(output.data, EXEC_MIME_TYPE))) {\n",
       "      return\n",
       "    }\n",
       "\n",
       "    const toinsert = output_area.element.find(\".\" + CLASS_NAME.split(' ')[0]);\n",
       "\n",
       "    if (output.metadata[EXEC_MIME_TYPE][\"id\"] !== undefined) {\n",
       "      toinsert[toinsert.length - 1].firstChild.textContent = output.data[JS_MIME_TYPE];\n",
       "      // store reference to embed id on output_area\n",
       "      output_area._bokeh_element_id = output.metadata[EXEC_MIME_TYPE][\"id\"];\n",
       "    }\n",
       "    if (output.metadata[EXEC_MIME_TYPE][\"server_id\"] !== undefined) {\n",
       "      const bk_div = document.createElement(\"div\");\n",
       "      bk_div.innerHTML = output.data[HTML_MIME_TYPE];\n",
       "      const script_attrs = bk_div.children[0].attributes;\n",
       "      for (let i = 0; i < script_attrs.length; i++) {\n",
       "        toinsert[toinsert.length - 1].firstChild.setAttribute(script_attrs[i].name, script_attrs[i].value);\n",
       "        toinsert[toinsert.length - 1].firstChild.textContent = bk_div.children[0].textContent\n",
       "      }\n",
       "      // store reference to server id on output_area\n",
       "      output_area._bokeh_server_id = output.metadata[EXEC_MIME_TYPE][\"server_id\"];\n",
       "    }\n",
       "  }\n",
       "\n",
       "  function register_renderer(events, OutputArea) {\n",
       "\n",
       "    function append_mime(data, metadata, element) {\n",
       "      // create a DOM node to render to\n",
       "      const toinsert = this.create_output_subarea(\n",
       "        metadata,\n",
       "        CLASS_NAME,\n",
       "        EXEC_MIME_TYPE\n",
       "      );\n",
       "      this.keyboard_manager.register_events(toinsert);\n",
       "      // Render to node\n",
       "      const props = {data: data, metadata: metadata[EXEC_MIME_TYPE]};\n",
       "      render(props, toinsert[toinsert.length - 1]);\n",
       "      element.append(toinsert);\n",
       "      return toinsert\n",
       "    }\n",
       "\n",
       "    /* Handle when an output is cleared or removed */\n",
       "    events.on('clear_output.CodeCell', handleClearOutput);\n",
       "    events.on('delete.Cell', handleClearOutput);\n",
       "\n",
       "    /* Handle when a new output is added */\n",
       "    events.on('output_added.OutputArea', handleAddOutput);\n",
       "\n",
       "    /**\n",
       "     * Register the mime type and append_mime function with output_area\n",
       "     */\n",
       "    OutputArea.prototype.register_mime_type(EXEC_MIME_TYPE, append_mime, {\n",
       "      /* Is output safe? */\n",
       "      safe: true,\n",
       "      /* Index of renderer in `output_area.display_order` */\n",
       "      index: 0\n",
       "    });\n",
       "  }\n",
       "\n",
       "  // register the mime type if in Jupyter Notebook environment and previously unregistered\n",
       "  if (root.Jupyter !== undefined) {\n",
       "    const events = require('base/js/events');\n",
       "    const OutputArea = require('notebook/js/outputarea').OutputArea;\n",
       "\n",
       "    if (OutputArea.prototype.mime_types().indexOf(EXEC_MIME_TYPE) == -1) {\n",
       "      register_renderer(events, OutputArea);\n",
       "    }\n",
       "  }\n",
       "  if (typeof (root._bokeh_timeout) === \"undefined\" || force === true) {\n",
       "    root._bokeh_timeout = Date.now() + 5000;\n",
       "    root._bokeh_failed_load = false;\n",
       "  }\n",
       "\n",
       "  const NB_LOAD_WARNING = {'data': {'text/html':\n",
       "     \"<div style='background-color: #fdd'>\\n\"+\n",
       "     \"<p>\\n\"+\n",
       "     \"BokehJS does not appear to have successfully loaded. If loading BokehJS from CDN, this \\n\"+\n",
       "     \"may be due to a slow or bad network connection. Possible fixes:\\n\"+\n",
       "     \"</p>\\n\"+\n",
       "     \"<ul>\\n\"+\n",
       "     \"<li>re-rerun `output_notebook()` to attempt to load from CDN again, or</li>\\n\"+\n",
       "     \"<li>use INLINE resources instead, as so:</li>\\n\"+\n",
       "     \"</ul>\\n\"+\n",
       "     \"<code>\\n\"+\n",
       "     \"from bokeh.resources import INLINE\\n\"+\n",
       "     \"output_notebook(resources=INLINE)\\n\"+\n",
       "     \"</code>\\n\"+\n",
       "     \"</div>\"}};\n",
       "\n",
       "  function display_loaded() {\n",
       "    const el = document.getElementById(\"1003\");\n",
       "    if (el != null) {\n",
       "      el.textContent = \"BokehJS is loading...\";\n",
       "    }\n",
       "    if (root.Bokeh !== undefined) {\n",
       "      if (el != null) {\n",
       "        el.textContent = \"BokehJS \" + root.Bokeh.version + \" successfully loaded.\";\n",
       "      }\n",
       "    } else if (Date.now() < root._bokeh_timeout) {\n",
       "      setTimeout(display_loaded, 100)\n",
       "    }\n",
       "  }\n",
       "\n",
       "  function run_callbacks() {\n",
       "    try {\n",
       "      root._bokeh_onload_callbacks.forEach(function(callback) {\n",
       "        if (callback != null)\n",
       "          callback();\n",
       "      });\n",
       "    } finally {\n",
       "      delete root._bokeh_onload_callbacks\n",
       "    }\n",
       "    console.debug(\"Bokeh: all callbacks have finished\");\n",
       "  }\n",
       "\n",
       "  function load_libs(css_urls, js_urls, callback) {\n",
       "    if (css_urls == null) css_urls = [];\n",
       "    if (js_urls == null) js_urls = [];\n",
       "\n",
       "    root._bokeh_onload_callbacks.push(callback);\n",
       "    if (root._bokeh_is_loading > 0) {\n",
       "      console.debug(\"Bokeh: BokehJS is being loaded, scheduling callback at\", now());\n",
       "      return null;\n",
       "    }\n",
       "    if (js_urls == null || js_urls.length === 0) {\n",
       "      run_callbacks();\n",
       "      return null;\n",
       "    }\n",
       "    console.debug(\"Bokeh: BokehJS not loaded, scheduling load and callback at\", now());\n",
       "    root._bokeh_is_loading = css_urls.length + js_urls.length;\n",
       "\n",
       "    function on_load() {\n",
       "      root._bokeh_is_loading--;\n",
       "      if (root._bokeh_is_loading === 0) {\n",
       "        console.debug(\"Bokeh: all BokehJS libraries/stylesheets loaded\");\n",
       "        run_callbacks()\n",
       "      }\n",
       "    }\n",
       "\n",
       "    function on_error(url) {\n",
       "      console.error(\"failed to load \" + url);\n",
       "    }\n",
       "\n",
       "    for (let i = 0; i < css_urls.length; i++) {\n",
       "      const url = css_urls[i];\n",
       "      const element = document.createElement(\"link\");\n",
       "      element.onload = on_load;\n",
       "      element.onerror = on_error.bind(null, url);\n",
       "      element.rel = \"stylesheet\";\n",
       "      element.type = \"text/css\";\n",
       "      element.href = url;\n",
       "      console.debug(\"Bokeh: injecting link tag for BokehJS stylesheet: \", url);\n",
       "      document.body.appendChild(element);\n",
       "    }\n",
       "\n",
       "    for (let i = 0; i < js_urls.length; i++) {\n",
       "      const url = js_urls[i];\n",
       "      const element = document.createElement('script');\n",
       "      element.onload = on_load;\n",
       "      element.onerror = on_error.bind(null, url);\n",
       "      element.async = false;\n",
       "      element.src = url;\n",
       "      console.debug(\"Bokeh: injecting script tag for BokehJS library: \", url);\n",
       "      document.head.appendChild(element);\n",
       "    }\n",
       "  };\n",
       "\n",
       "  function inject_raw_css(css) {\n",
       "    const element = document.createElement(\"style\");\n",
       "    element.appendChild(document.createTextNode(css));\n",
       "    document.body.appendChild(element);\n",
       "  }\n",
       "\n",
       "  const js_urls = [\"https://cdn.bokeh.org/bokeh/release/bokeh-2.4.3.min.js\", \"https://cdn.bokeh.org/bokeh/release/bokeh-gl-2.4.3.min.js\", \"https://cdn.bokeh.org/bokeh/release/bokeh-widgets-2.4.3.min.js\", \"https://cdn.bokeh.org/bokeh/release/bokeh-tables-2.4.3.min.js\", \"https://cdn.bokeh.org/bokeh/release/bokeh-mathjax-2.4.3.min.js\"];\n",
       "  const css_urls = [];\n",
       "\n",
       "  const inline_js = [    function(Bokeh) {\n",
       "      Bokeh.set_log_level(\"info\");\n",
       "    },\n",
       "function(Bokeh) {\n",
       "    }\n",
       "  ];\n",
       "\n",
       "  function run_inline_js() {\n",
       "    if (root.Bokeh !== undefined || force === true) {\n",
       "          for (let i = 0; i < inline_js.length; i++) {\n",
       "      inline_js[i].call(root, root.Bokeh);\n",
       "    }\n",
       "if (force === true) {\n",
       "        display_loaded();\n",
       "      }} else if (Date.now() < root._bokeh_timeout) {\n",
       "      setTimeout(run_inline_js, 100);\n",
       "    } else if (!root._bokeh_failed_load) {\n",
       "      console.log(\"Bokeh: BokehJS failed to load within specified timeout.\");\n",
       "      root._bokeh_failed_load = true;\n",
       "    } else if (force !== true) {\n",
       "      const cell = $(document.getElementById(\"1003\")).parents('.cell').data().cell;\n",
       "      cell.output_area.append_execute_result(NB_LOAD_WARNING)\n",
       "    }\n",
       "  }\n",
       "\n",
       "  if (root._bokeh_is_loading === 0) {\n",
       "    console.debug(\"Bokeh: BokehJS loaded, going straight to plotting\");\n",
       "    run_inline_js();\n",
       "  } else {\n",
       "    load_libs(css_urls, js_urls, function() {\n",
       "      console.debug(\"Bokeh: BokehJS plotting callback run at\", now());\n",
       "      run_inline_js();\n",
       "    });\n",
       "  }\n",
       "}(window));"
      ],
      "application/vnd.bokehjs_load.v0+json": "(function(root) {\n  function now() {\n    return new Date();\n  }\n\n  const force = true;\n\n  if (typeof root._bokeh_onload_callbacks === \"undefined\" || force === true) {\n    root._bokeh_onload_callbacks = [];\n    root._bokeh_is_loading = undefined;\n  }\n\n\n  if (typeof (root._bokeh_timeout) === \"undefined\" || force === true) {\n    root._bokeh_timeout = Date.now() + 5000;\n    root._bokeh_failed_load = false;\n  }\n\n  const NB_LOAD_WARNING = {'data': {'text/html':\n     \"<div style='background-color: #fdd'>\\n\"+\n     \"<p>\\n\"+\n     \"BokehJS does not appear to have successfully loaded. If loading BokehJS from CDN, this \\n\"+\n     \"may be due to a slow or bad network connection. Possible fixes:\\n\"+\n     \"</p>\\n\"+\n     \"<ul>\\n\"+\n     \"<li>re-rerun `output_notebook()` to attempt to load from CDN again, or</li>\\n\"+\n     \"<li>use INLINE resources instead, as so:</li>\\n\"+\n     \"</ul>\\n\"+\n     \"<code>\\n\"+\n     \"from bokeh.resources import INLINE\\n\"+\n     \"output_notebook(resources=INLINE)\\n\"+\n     \"</code>\\n\"+\n     \"</div>\"}};\n\n  function display_loaded() {\n    const el = document.getElementById(\"1003\");\n    if (el != null) {\n      el.textContent = \"BokehJS is loading...\";\n    }\n    if (root.Bokeh !== undefined) {\n      if (el != null) {\n        el.textContent = \"BokehJS \" + root.Bokeh.version + \" successfully loaded.\";\n      }\n    } else if (Date.now() < root._bokeh_timeout) {\n      setTimeout(display_loaded, 100)\n    }\n  }\n\n  function run_callbacks() {\n    try {\n      root._bokeh_onload_callbacks.forEach(function(callback) {\n        if (callback != null)\n          callback();\n      });\n    } finally {\n      delete root._bokeh_onload_callbacks\n    }\n    console.debug(\"Bokeh: all callbacks have finished\");\n  }\n\n  function load_libs(css_urls, js_urls, callback) {\n    if (css_urls == null) css_urls = [];\n    if (js_urls == null) js_urls = [];\n\n    root._bokeh_onload_callbacks.push(callback);\n    if (root._bokeh_is_loading > 0) {\n      console.debug(\"Bokeh: BokehJS is being loaded, scheduling callback at\", now());\n      return null;\n    }\n    if (js_urls == null || js_urls.length === 0) {\n      run_callbacks();\n      return null;\n    }\n    console.debug(\"Bokeh: BokehJS not loaded, scheduling load and callback at\", now());\n    root._bokeh_is_loading = css_urls.length + js_urls.length;\n\n    function on_load() {\n      root._bokeh_is_loading--;\n      if (root._bokeh_is_loading === 0) {\n        console.debug(\"Bokeh: all BokehJS libraries/stylesheets loaded\");\n        run_callbacks()\n      }\n    }\n\n    function on_error(url) {\n      console.error(\"failed to load \" + url);\n    }\n\n    for (let i = 0; i < css_urls.length; i++) {\n      const url = css_urls[i];\n      const element = document.createElement(\"link\");\n      element.onload = on_load;\n      element.onerror = on_error.bind(null, url);\n      element.rel = \"stylesheet\";\n      element.type = \"text/css\";\n      element.href = url;\n      console.debug(\"Bokeh: injecting link tag for BokehJS stylesheet: \", url);\n      document.body.appendChild(element);\n    }\n\n    for (let i = 0; i < js_urls.length; i++) {\n      const url = js_urls[i];\n      const element = document.createElement('script');\n      element.onload = on_load;\n      element.onerror = on_error.bind(null, url);\n      element.async = false;\n      element.src = url;\n      console.debug(\"Bokeh: injecting script tag for BokehJS library: \", url);\n      document.head.appendChild(element);\n    }\n  };\n\n  function inject_raw_css(css) {\n    const element = document.createElement(\"style\");\n    element.appendChild(document.createTextNode(css));\n    document.body.appendChild(element);\n  }\n\n  const js_urls = [\"https://cdn.bokeh.org/bokeh/release/bokeh-2.4.3.min.js\", \"https://cdn.bokeh.org/bokeh/release/bokeh-gl-2.4.3.min.js\", \"https://cdn.bokeh.org/bokeh/release/bokeh-widgets-2.4.3.min.js\", \"https://cdn.bokeh.org/bokeh/release/bokeh-tables-2.4.3.min.js\", \"https://cdn.bokeh.org/bokeh/release/bokeh-mathjax-2.4.3.min.js\"];\n  const css_urls = [];\n\n  const inline_js = [    function(Bokeh) {\n      Bokeh.set_log_level(\"info\");\n    },\nfunction(Bokeh) {\n    }\n  ];\n\n  function run_inline_js() {\n    if (root.Bokeh !== undefined || force === true) {\n          for (let i = 0; i < inline_js.length; i++) {\n      inline_js[i].call(root, root.Bokeh);\n    }\nif (force === true) {\n        display_loaded();\n      }} else if (Date.now() < root._bokeh_timeout) {\n      setTimeout(run_inline_js, 100);\n    } else if (!root._bokeh_failed_load) {\n      console.log(\"Bokeh: BokehJS failed to load within specified timeout.\");\n      root._bokeh_failed_load = true;\n    } else if (force !== true) {\n      const cell = $(document.getElementById(\"1003\")).parents('.cell').data().cell;\n      cell.output_area.append_execute_result(NB_LOAD_WARNING)\n    }\n  }\n\n  if (root._bokeh_is_loading === 0) {\n    console.debug(\"Bokeh: BokehJS loaded, going straight to plotting\");\n    run_inline_js();\n  } else {\n    load_libs(css_urls, js_urls, function() {\n      console.debug(\"Bokeh: BokehJS plotting callback run at\", now());\n      run_inline_js();\n    });\n  }\n}(window));"
     },
     "metadata": {},
     "output_type": "display_data"
    }
   ],
   "source": [
    "import bokeh.io\n",
    "import bokeh.plotting\n",
    "bokeh.io.output_notebook()\n",
    "from bokeh.plotting import figure,output_file,show"
   ]
  },
  {
   "cell_type": "code",
   "execution_count": 4,
   "id": "8ff19910",
   "metadata": {},
   "outputs": [
    {
     "data": {
      "text/html": [
       "\n",
       "  <div class=\"bk-root\" id=\"8de55f85-3959-43c2-ac71-4da9d83aebc7\" data-root-id=\"1224\"></div>\n"
      ]
     },
     "metadata": {},
     "output_type": "display_data"
    },
    {
     "data": {
      "application/javascript": [
       "(function(root) {\n",
       "  function embed_document(root) {\n",
       "  const docs_json = {\"284d0535-8a96-48be-994f-de481c0ad4fc\":{\"defs\":[],\"roots\":{\"references\":[{\"attributes\":{\"below\":[{\"id\":\"1235\"}],\"center\":[{\"id\":\"1238\"},{\"id\":\"1242\"}],\"left\":[{\"id\":\"1239\"}],\"renderers\":[{\"id\":\"1261\"}],\"title\":{\"id\":\"1225\"},\"toolbar\":{\"id\":\"1250\"},\"x_range\":{\"id\":\"1227\"},\"x_scale\":{\"id\":\"1231\"},\"y_range\":{\"id\":\"1229\"},\"y_scale\":{\"id\":\"1233\"}},\"id\":\"1224\",\"subtype\":\"Figure\",\"type\":\"Plot\"},{\"attributes\":{},\"id\":\"1275\",\"type\":\"BasicTickFormatter\"},{\"attributes\":{\"fill_color\":{\"value\":\"red\"},\"line_color\":{\"value\":\"#1f77b4\"},\"size\":{\"value\":10},\"x\":{\"field\":\"x\"},\"y\":{\"field\":\"y\"}},\"id\":\"1258\",\"type\":\"Scatter\"},{\"attributes\":{},\"id\":\"1231\",\"type\":\"LinearScale\"},{\"attributes\":{\"coordinates\":null,\"formatter\":{\"id\":\"1278\"},\"group\":null,\"major_label_policy\":{\"id\":\"1279\"},\"ticker\":{\"id\":\"1236\"}},\"id\":\"1235\",\"type\":\"LinearAxis\"},{\"attributes\":{},\"id\":\"1244\",\"type\":\"WheelZoomTool\"},{\"attributes\":{\"coordinates\":null,\"group\":null,\"text\":\"line plot\"},\"id\":\"1225\",\"type\":\"Title\"},{\"attributes\":{\"tools\":[{\"id\":\"1243\"},{\"id\":\"1244\"},{\"id\":\"1245\"},{\"id\":\"1246\"},{\"id\":\"1247\"},{\"id\":\"1248\"}]},\"id\":\"1250\",\"type\":\"Toolbar\"},{\"attributes\":{},\"id\":\"1247\",\"type\":\"ResetTool\"},{\"attributes\":{},\"id\":\"1279\",\"type\":\"AllLabels\"},{\"attributes\":{},\"id\":\"1227\",\"type\":\"DataRange1d\"},{\"attributes\":{\"axis\":{\"id\":\"1239\"},\"coordinates\":null,\"dimension\":1,\"group\":null,\"ticker\":null},\"id\":\"1242\",\"type\":\"Grid\"},{\"attributes\":{\"bottom_units\":\"screen\",\"coordinates\":null,\"fill_alpha\":0.5,\"fill_color\":\"lightgrey\",\"group\":null,\"left_units\":\"screen\",\"level\":\"overlay\",\"line_alpha\":1.0,\"line_color\":\"black\",\"line_dash\":[4,4],\"line_width\":2,\"right_units\":\"screen\",\"syncable\":false,\"top_units\":\"screen\"},\"id\":\"1249\",\"type\":\"BoxAnnotation\"},{\"attributes\":{},\"id\":\"1240\",\"type\":\"BasicTicker\"},{\"attributes\":{},\"id\":\"1276\",\"type\":\"AllLabels\"},{\"attributes\":{\"data\":{\"x\":[2,3,4,5,6],\"y\":[3,4,5,6,7]},\"selected\":{\"id\":\"1281\"},\"selection_policy\":{\"id\":\"1280\"}},\"id\":\"1257\",\"type\":\"ColumnDataSource\"},{\"attributes\":{},\"id\":\"1246\",\"type\":\"SaveTool\"},{\"attributes\":{},\"id\":\"1243\",\"type\":\"PanTool\"},{\"attributes\":{},\"id\":\"1281\",\"type\":\"Selection\"},{\"attributes\":{},\"id\":\"1278\",\"type\":\"BasicTickFormatter\"},{\"attributes\":{\"fill_alpha\":{\"value\":0.1},\"fill_color\":{\"value\":\"red\"},\"hatch_alpha\":{\"value\":0.1},\"line_alpha\":{\"value\":0.1},\"line_color\":{\"value\":\"#1f77b4\"},\"size\":{\"value\":10},\"x\":{\"field\":\"x\"},\"y\":{\"field\":\"y\"}},\"id\":\"1259\",\"type\":\"Scatter\"},{\"attributes\":{},\"id\":\"1248\",\"type\":\"HelpTool\"},{\"attributes\":{\"source\":{\"id\":\"1257\"}},\"id\":\"1262\",\"type\":\"CDSView\"},{\"attributes\":{\"coordinates\":null,\"data_source\":{\"id\":\"1257\"},\"glyph\":{\"id\":\"1258\"},\"group\":null,\"hover_glyph\":null,\"muted_glyph\":{\"id\":\"1260\"},\"nonselection_glyph\":{\"id\":\"1259\"},\"view\":{\"id\":\"1262\"}},\"id\":\"1261\",\"type\":\"GlyphRenderer\"},{\"attributes\":{\"axis\":{\"id\":\"1235\"},\"coordinates\":null,\"group\":null,\"ticker\":null},\"id\":\"1238\",\"type\":\"Grid\"},{\"attributes\":{\"overlay\":{\"id\":\"1249\"}},\"id\":\"1245\",\"type\":\"BoxZoomTool\"},{\"attributes\":{\"fill_alpha\":{\"value\":0.2},\"fill_color\":{\"value\":\"red\"},\"hatch_alpha\":{\"value\":0.2},\"line_alpha\":{\"value\":0.2},\"line_color\":{\"value\":\"#1f77b4\"},\"size\":{\"value\":10},\"x\":{\"field\":\"x\"},\"y\":{\"field\":\"y\"}},\"id\":\"1260\",\"type\":\"Scatter\"},{\"attributes\":{},\"id\":\"1280\",\"type\":\"UnionRenderers\"},{\"attributes\":{\"coordinates\":null,\"formatter\":{\"id\":\"1275\"},\"group\":null,\"major_label_policy\":{\"id\":\"1276\"},\"ticker\":{\"id\":\"1240\"}},\"id\":\"1239\",\"type\":\"LinearAxis\"},{\"attributes\":{},\"id\":\"1233\",\"type\":\"LinearScale\"},{\"attributes\":{},\"id\":\"1229\",\"type\":\"DataRange1d\"},{\"attributes\":{},\"id\":\"1236\",\"type\":\"BasicTicker\"}],\"root_ids\":[\"1224\"]},\"title\":\"Bokeh Application\",\"version\":\"2.4.3\"}};\n",
       "  const render_items = [{\"docid\":\"284d0535-8a96-48be-994f-de481c0ad4fc\",\"root_ids\":[\"1224\"],\"roots\":{\"1224\":\"8de55f85-3959-43c2-ac71-4da9d83aebc7\"}}];\n",
       "  root.Bokeh.embed.embed_items_notebook(docs_json, render_items);\n",
       "  }\n",
       "  if (root.Bokeh !== undefined) {\n",
       "    embed_document(root);\n",
       "  } else {\n",
       "    let attempts = 0;\n",
       "    const timer = setInterval(function(root) {\n",
       "      if (root.Bokeh !== undefined) {\n",
       "        clearInterval(timer);\n",
       "        embed_document(root);\n",
       "      } else {\n",
       "        attempts++;\n",
       "        if (attempts > 100) {\n",
       "          clearInterval(timer);\n",
       "          console.log(\"Bokeh: ERROR: Unable to run BokehJS code because BokehJS library is missing\");\n",
       "        }\n",
       "      }\n",
       "    }, 10, root)\n",
       "  }\n",
       "})(window);"
      ],
      "application/vnd.bokehjs_exec.v0+json": ""
     },
     "metadata": {
      "application/vnd.bokehjs_exec.v0+json": {
       "id": "1224"
      }
     },
     "output_type": "display_data"
    }
   ],
   "source": [
    "x=[2,3,4,5,6]\n",
    "y=[3,4,5,6,7]\n",
    "output_file(\"line.html\")\n",
    "p=figure(title='line plot')\n",
    "p.scatter(x,y,fill_color='red',size=10)\n",
    "show(p)"
   ]
  },
  {
   "cell_type": "markdown",
   "id": "65d2b6d0",
   "metadata": {},
   "source": [
    "# Q.2"
   ]
  },
  {
   "cell_type": "markdown",
   "id": "bf9a00fd",
   "metadata": {},
   "source": [
    "A glyph is a vectorized graphical shape or marker that is used to represent your data.Usually, a plot consists of geometric shapes either in the form of a line, circle, etc. So, Glyphs are nothing but visual shapes that are drawn to represent the data such as circles, squares, lines, rectangles, etc.  "
   ]
  },
  {
   "cell_type": "code",
   "execution_count": 5,
   "id": "6af29cd6",
   "metadata": {},
   "outputs": [
    {
     "data": {
      "text/html": [
       "\n",
       "  <div class=\"bk-root\" id=\"4dbf55cc-09a3-41d2-aafc-30cd47fc12bc\" data-root-id=\"1474\"></div>\n"
      ]
     },
     "metadata": {},
     "output_type": "display_data"
    },
    {
     "data": {
      "application/javascript": [
       "(function(root) {\n",
       "  function embed_document(root) {\n",
       "  const docs_json = {\"647fa6df-e19c-4778-9ff3-65054aafee00\":{\"defs\":[],\"roots\":{\"references\":[{\"attributes\":{\"below\":[{\"id\":\"1485\"}],\"center\":[{\"id\":\"1488\"},{\"id\":\"1492\"}],\"height\":400,\"left\":[{\"id\":\"1489\"}],\"renderers\":[{\"id\":\"1511\"},{\"id\":\"1517\"},{\"id\":\"1523\"}],\"title\":{\"id\":\"1475\"},\"toolbar\":{\"id\":\"1500\"},\"width\":450,\"x_range\":{\"id\":\"1477\"},\"x_scale\":{\"id\":\"1481\"},\"y_range\":{\"id\":\"1479\"},\"y_scale\":{\"id\":\"1483\"}},\"id\":\"1474\",\"subtype\":\"Figure\",\"type\":\"Plot\"},{\"attributes\":{\"fill_alpha\":{\"value\":0.2},\"fill_color\":{\"value\":\"red\"},\"hatch_alpha\":{\"value\":0.2},\"line_alpha\":{\"value\":0.2},\"line_color\":{\"value\":\"#1f77b4\"},\"size\":{\"value\":25},\"x\":{\"field\":\"x\"},\"y\":{\"field\":\"y\"}},\"id\":\"1510\",\"type\":\"Circle\"},{\"attributes\":{\"overlay\":{\"id\":\"1499\"}},\"id\":\"1495\",\"type\":\"BoxZoomTool\"},{\"attributes\":{\"coordinates\":null,\"data_source\":{\"id\":\"1507\"},\"glyph\":{\"id\":\"1508\"},\"group\":null,\"hover_glyph\":null,\"muted_glyph\":{\"id\":\"1510\"},\"nonselection_glyph\":{\"id\":\"1509\"},\"view\":{\"id\":\"1512\"}},\"id\":\"1511\",\"type\":\"GlyphRenderer\"},{\"attributes\":{},\"id\":\"1498\",\"type\":\"HelpTool\"},{\"attributes\":{\"source\":{\"id\":\"1507\"}},\"id\":\"1512\",\"type\":\"CDSView\"},{\"attributes\":{},\"id\":\"1496\",\"type\":\"SaveTool\"},{\"attributes\":{\"fill_color\":{\"value\":\"red\"},\"line_color\":{\"value\":\"#1f77b4\"},\"size\":{\"value\":25},\"x\":{\"field\":\"x\"},\"y\":{\"field\":\"y\"}},\"id\":\"1508\",\"type\":\"Circle\"},{\"attributes\":{},\"id\":\"1547\",\"type\":\"BasicTickFormatter\"},{\"attributes\":{},\"id\":\"1554\",\"type\":\"UnionRenderers\"},{\"attributes\":{},\"id\":\"1481\",\"type\":\"LinearScale\"},{\"attributes\":{\"source\":{\"id\":\"1519\"}},\"id\":\"1524\",\"type\":\"CDSView\"},{\"attributes\":{},\"id\":\"1555\",\"type\":\"Selection\"},{\"attributes\":{},\"id\":\"1548\",\"type\":\"AllLabels\"},{\"attributes\":{\"bottom_units\":\"screen\",\"coordinates\":null,\"fill_alpha\":0.5,\"fill_color\":\"lightgrey\",\"group\":null,\"left_units\":\"screen\",\"level\":\"overlay\",\"line_alpha\":1.0,\"line_color\":\"black\",\"line_dash\":[4,4],\"line_width\":2,\"right_units\":\"screen\",\"syncable\":false,\"top_units\":\"screen\"},\"id\":\"1499\",\"type\":\"BoxAnnotation\"},{\"attributes\":{\"fill_alpha\":{\"value\":0.6},\"fill_color\":{\"value\":\"green\"},\"line_color\":{\"value\":\"#1f77b4\"},\"line_width\":{\"value\":2},\"marker\":{\"value\":\"circle_x\"},\"size\":{\"value\":25},\"x\":{\"field\":\"x\"},\"y\":{\"field\":\"y\"}},\"id\":\"1520\",\"type\":\"Scatter\"},{\"attributes\":{\"source\":{\"id\":\"1513\"}},\"id\":\"1518\",\"type\":\"CDSView\"},{\"attributes\":{\"data\":{\"x\":[4,7,2,6],\"y\":[7,2,4,9]},\"selected\":{\"id\":\"1557\"},\"selection_policy\":{\"id\":\"1556\"}},\"id\":\"1519\",\"type\":\"ColumnDataSource\"},{\"attributes\":{},\"id\":\"1550\",\"type\":\"BasicTickFormatter\"},{\"attributes\":{\"coordinates\":null,\"group\":null,\"text\":\"Circle Glyph\"},\"id\":\"1475\",\"type\":\"Title\"},{\"attributes\":{},\"id\":\"1483\",\"type\":\"LinearScale\"},{\"attributes\":{},\"id\":\"1486\",\"type\":\"BasicTicker\"},{\"attributes\":{},\"id\":\"1551\",\"type\":\"AllLabels\"},{\"attributes\":{\"coordinates\":null,\"data_source\":{\"id\":\"1513\"},\"glyph\":{\"id\":\"1514\"},\"group\":null,\"hover_glyph\":null,\"muted_glyph\":{\"id\":\"1516\"},\"nonselection_glyph\":{\"id\":\"1515\"},\"view\":{\"id\":\"1518\"}},\"id\":\"1517\",\"type\":\"GlyphRenderer\"},{\"attributes\":{\"axis\":{\"id\":\"1485\"},\"coordinates\":null,\"group\":null,\"ticker\":null},\"id\":\"1488\",\"type\":\"Grid\"},{\"attributes\":{\"fill_alpha\":{\"value\":0.2},\"fill_color\":{\"value\":\"blue\"},\"hatch_alpha\":{\"value\":0.2},\"line_alpha\":{\"value\":0.2},\"line_color\":{\"value\":\"#1f77b4\"},\"line_width\":{\"value\":2},\"marker\":{\"value\":\"circle_cross\"},\"size\":{\"value\":25},\"x\":{\"field\":\"x\"},\"y\":{\"field\":\"y\"}},\"id\":\"1516\",\"type\":\"Scatter\"},{\"attributes\":{\"coordinates\":null,\"formatter\":{\"id\":\"1547\"},\"group\":null,\"major_label_policy\":{\"id\":\"1548\"},\"ticker\":{\"id\":\"1490\"}},\"id\":\"1489\",\"type\":\"LinearAxis\"},{\"attributes\":{\"fill_alpha\":{\"value\":0.1},\"fill_color\":{\"value\":\"blue\"},\"hatch_alpha\":{\"value\":0.1},\"line_alpha\":{\"value\":0.1},\"line_color\":{\"value\":\"#1f77b4\"},\"line_width\":{\"value\":2},\"marker\":{\"value\":\"circle_cross\"},\"size\":{\"value\":25},\"x\":{\"field\":\"x\"},\"y\":{\"field\":\"y\"}},\"id\":\"1515\",\"type\":\"Scatter\"},{\"attributes\":{\"coordinates\":null,\"formatter\":{\"id\":\"1550\"},\"group\":null,\"major_label_policy\":{\"id\":\"1551\"},\"ticker\":{\"id\":\"1486\"}},\"id\":\"1485\",\"type\":\"LinearAxis\"},{\"attributes\":{},\"id\":\"1493\",\"type\":\"PanTool\"},{\"attributes\":{\"coordinates\":null,\"data_source\":{\"id\":\"1519\"},\"glyph\":{\"id\":\"1520\"},\"group\":null,\"hover_glyph\":null,\"muted_glyph\":{\"id\":\"1522\"},\"nonselection_glyph\":{\"id\":\"1521\"},\"view\":{\"id\":\"1524\"}},\"id\":\"1523\",\"type\":\"GlyphRenderer\"},{\"attributes\":{\"fill_alpha\":{\"value\":0.2},\"fill_color\":{\"value\":\"green\"},\"hatch_alpha\":{\"value\":0.2},\"line_alpha\":{\"value\":0.2},\"line_color\":{\"value\":\"#1f77b4\"},\"line_width\":{\"value\":2},\"marker\":{\"value\":\"circle_x\"},\"size\":{\"value\":25},\"x\":{\"field\":\"x\"},\"y\":{\"field\":\"y\"}},\"id\":\"1522\",\"type\":\"Scatter\"},{\"attributes\":{\"data\":{\"x\":[2,4,6,8],\"y\":[5,8,9,11]},\"selected\":{\"id\":\"1555\"},\"selection_policy\":{\"id\":\"1554\"}},\"id\":\"1513\",\"type\":\"ColumnDataSource\"},{\"attributes\":{\"fill_alpha\":{\"value\":0.1},\"fill_color\":{\"value\":\"green\"},\"hatch_alpha\":{\"value\":0.1},\"line_alpha\":{\"value\":0.1},\"line_color\":{\"value\":\"#1f77b4\"},\"line_width\":{\"value\":2},\"marker\":{\"value\":\"circle_x\"},\"size\":{\"value\":25},\"x\":{\"field\":\"x\"},\"y\":{\"field\":\"y\"}},\"id\":\"1521\",\"type\":\"Scatter\"},{\"attributes\":{\"fill_alpha\":{\"value\":0.3},\"fill_color\":{\"value\":\"blue\"},\"line_color\":{\"value\":\"#1f77b4\"},\"line_width\":{\"value\":2},\"marker\":{\"value\":\"circle_cross\"},\"size\":{\"value\":25},\"x\":{\"field\":\"x\"},\"y\":{\"field\":\"y\"}},\"id\":\"1514\",\"type\":\"Scatter\"},{\"attributes\":{},\"id\":\"1477\",\"type\":\"DataRange1d\"},{\"attributes\":{},\"id\":\"1552\",\"type\":\"UnionRenderers\"},{\"attributes\":{},\"id\":\"1497\",\"type\":\"ResetTool\"},{\"attributes\":{\"fill_alpha\":{\"value\":0.1},\"fill_color\":{\"value\":\"red\"},\"hatch_alpha\":{\"value\":0.1},\"line_alpha\":{\"value\":0.1},\"line_color\":{\"value\":\"#1f77b4\"},\"size\":{\"value\":25},\"x\":{\"field\":\"x\"},\"y\":{\"field\":\"y\"}},\"id\":\"1509\",\"type\":\"Circle\"},{\"attributes\":{},\"id\":\"1556\",\"type\":\"UnionRenderers\"},{\"attributes\":{\"tools\":[{\"id\":\"1493\"},{\"id\":\"1494\"},{\"id\":\"1495\"},{\"id\":\"1496\"},{\"id\":\"1497\"},{\"id\":\"1498\"}]},\"id\":\"1500\",\"type\":\"Toolbar\"},{\"attributes\":{},\"id\":\"1479\",\"type\":\"DataRange1d\"},{\"attributes\":{\"data\":{\"x\":[1,2,4,6,7],\"y\":[7,6,3,9,10]},\"selected\":{\"id\":\"1553\"},\"selection_policy\":{\"id\":\"1552\"}},\"id\":\"1507\",\"type\":\"ColumnDataSource\"},{\"attributes\":{},\"id\":\"1553\",\"type\":\"Selection\"},{\"attributes\":{},\"id\":\"1557\",\"type\":\"Selection\"},{\"attributes\":{},\"id\":\"1490\",\"type\":\"BasicTicker\"},{\"attributes\":{\"axis\":{\"id\":\"1489\"},\"coordinates\":null,\"dimension\":1,\"group\":null,\"ticker\":null},\"id\":\"1492\",\"type\":\"Grid\"},{\"attributes\":{},\"id\":\"1494\",\"type\":\"WheelZoomTool\"}],\"root_ids\":[\"1474\"]},\"title\":\"Bokeh Application\",\"version\":\"2.4.3\"}};\n",
       "  const render_items = [{\"docid\":\"647fa6df-e19c-4778-9ff3-65054aafee00\",\"root_ids\":[\"1474\"],\"roots\":{\"1474\":\"4dbf55cc-09a3-41d2-aafc-30cd47fc12bc\"}}];\n",
       "  root.Bokeh.embed.embed_items_notebook(docs_json, render_items);\n",
       "  }\n",
       "  if (root.Bokeh !== undefined) {\n",
       "    embed_document(root);\n",
       "  } else {\n",
       "    let attempts = 0;\n",
       "    const timer = setInterval(function(root) {\n",
       "      if (root.Bokeh !== undefined) {\n",
       "        clearInterval(timer);\n",
       "        embed_document(root);\n",
       "      } else {\n",
       "        attempts++;\n",
       "        if (attempts > 100) {\n",
       "          clearInterval(timer);\n",
       "          console.log(\"Bokeh: ERROR: Unable to run BokehJS code because BokehJS library is missing\");\n",
       "        }\n",
       "      }\n",
       "    }, 10, root)\n",
       "  }\n",
       "})(window);"
      ],
      "application/vnd.bokehjs_exec.v0+json": ""
     },
     "metadata": {
      "application/vnd.bokehjs_exec.v0+json": {
       "id": "1474"
      }
     },
     "output_type": "display_data"
    }
   ],
   "source": [
    "from bokeh.plotting import figure, show\n",
    "from bokeh.io import output_file\n",
    " \n",
    "# prepare some data\n",
    "x = [1, 2, 4, 6, 7]\n",
    "y = [7, 6, 3, 9, 10]\n",
    " \n",
    "# create a new plot with figure function\n",
    "p = figure(title=\"Circle Glyph\", plot_width=450, plot_height=400)\n",
    " \n",
    "# create circle glyph\n",
    "p.circle(x=x, y=y, size=25, fill_color=\"red\")\n",
    "p.circle_cross(x=[2, 4, 6, 8], y=[5, 8, 9, 11], size=25,\n",
    "               fill_color=\"blue\", fill_alpha=0.3, line_width=2)\n",
    "p.circle_x(x=[4, 7, 2, 6], y=[7, 2, 4, 9], size=25,\n",
    "           fill_color=\"green\", fill_alpha=0.6, line_width=2)\n",
    " \n",
    "# show the results\n",
    "output_file('circle.html')\n",
    "show(p)"
   ]
  },
  {
   "cell_type": "markdown",
   "id": "1f56ddac",
   "metadata": {},
   "source": [
    "In the above example we have used many different markers(patterns) like x-circle,cross circle and circle for representation of different types of data in a single plot."
   ]
  },
  {
   "cell_type": "markdown",
   "id": "a5ed93eb",
   "metadata": {},
   "source": [
    "# Q.3"
   ]
  },
  {
   "cell_type": "code",
   "execution_count": 11,
   "id": "028620be",
   "metadata": {},
   "outputs": [
    {
     "data": {
      "text/html": [
       "\n",
       "  <div class=\"bk-root\" id=\"c8cce2eb-4c90-4a3c-ba61-791d10f69141\" data-root-id=\"2784\"></div>\n"
      ]
     },
     "metadata": {},
     "output_type": "display_data"
    },
    {
     "data": {
      "application/javascript": [
       "(function(root) {\n",
       "  function embed_document(root) {\n",
       "  const docs_json = {\"0b249808-e950-4c85-bcda-b126f43f4d4b\":{\"defs\":[],\"roots\":{\"references\":[{\"attributes\":{\"below\":[{\"id\":\"2795\"}],\"center\":[{\"id\":\"2798\"},{\"id\":\"2802\"},{\"id\":\"2833\"}],\"left\":[{\"id\":\"2799\"}],\"renderers\":[{\"id\":\"2821\"}],\"title\":{\"id\":\"2785\"},\"toolbar\":{\"id\":\"2810\"},\"x_range\":{\"id\":\"2787\"},\"x_scale\":{\"id\":\"2791\"},\"y_range\":{\"id\":\"2789\"},\"y_scale\":{\"id\":\"2793\"}},\"id\":\"2784\",\"subtype\":\"Figure\",\"type\":\"Plot\"},{\"attributes\":{\"overlay\":{\"id\":\"2809\"}},\"id\":\"2805\",\"type\":\"BoxZoomTool\"},{\"attributes\":{\"label\":{\"value\":\"blue line\"},\"renderers\":[{\"id\":\"2821\"}]},\"id\":\"2834\",\"type\":\"LegendItem\"},{\"attributes\":{\"axis\":{\"id\":\"2795\"},\"coordinates\":null,\"group\":null,\"ticker\":null},\"id\":\"2798\",\"type\":\"Grid\"},{\"attributes\":{},\"id\":\"2808\",\"type\":\"HelpTool\"},{\"attributes\":{},\"id\":\"2803\",\"type\":\"PanTool\"},{\"attributes\":{\"source\":{\"id\":\"2817\"}},\"id\":\"2822\",\"type\":\"CDSView\"},{\"attributes\":{\"coordinates\":null,\"data_source\":{\"id\":\"2817\"},\"glyph\":{\"id\":\"2818\"},\"group\":null,\"hover_glyph\":null,\"muted_glyph\":{\"id\":\"2820\"},\"nonselection_glyph\":{\"id\":\"2819\"},\"view\":{\"id\":\"2822\"}},\"id\":\"2821\",\"type\":\"GlyphRenderer\"},{\"attributes\":{},\"id\":\"2800\",\"type\":\"BasicTicker\"},{\"attributes\":{\"coordinates\":null,\"group\":null,\"text\":\"line plot\"},\"id\":\"2785\",\"type\":\"Title\"},{\"attributes\":{},\"id\":\"2789\",\"type\":\"DataRange1d\"},{\"attributes\":{},\"id\":\"2825\",\"type\":\"BasicTickFormatter\"},{\"attributes\":{\"axis\":{\"id\":\"2799\"},\"coordinates\":null,\"dimension\":1,\"group\":null,\"ticker\":null},\"id\":\"2802\",\"type\":\"Grid\"},{\"attributes\":{\"tools\":[{\"id\":\"2803\"},{\"id\":\"2804\"},{\"id\":\"2805\"},{\"id\":\"2806\"},{\"id\":\"2807\"},{\"id\":\"2808\"}]},\"id\":\"2810\",\"type\":\"Toolbar\"},{\"attributes\":{\"bottom_units\":\"screen\",\"coordinates\":null,\"fill_alpha\":0.5,\"fill_color\":\"lightgrey\",\"group\":null,\"left_units\":\"screen\",\"level\":\"overlay\",\"line_alpha\":1.0,\"line_color\":\"black\",\"line_dash\":[4,4],\"line_width\":2,\"right_units\":\"screen\",\"syncable\":false,\"top_units\":\"screen\"},\"id\":\"2809\",\"type\":\"BoxAnnotation\"},{\"attributes\":{},\"id\":\"2807\",\"type\":\"ResetTool\"},{\"attributes\":{},\"id\":\"2828\",\"type\":\"BasicTickFormatter\"},{\"attributes\":{},\"id\":\"2804\",\"type\":\"WheelZoomTool\"},{\"attributes\":{\"axis_label\":\"y axis\",\"coordinates\":null,\"formatter\":{\"id\":\"2825\"},\"group\":null,\"major_label_policy\":{\"id\":\"2826\"},\"ticker\":{\"id\":\"2800\"}},\"id\":\"2799\",\"type\":\"LinearAxis\"},{\"attributes\":{\"data\":{\"x\":[2,3,4,5,6],\"y\":[3,4,5,6,7]},\"selected\":{\"id\":\"2831\"},\"selection_policy\":{\"id\":\"2830\"}},\"id\":\"2817\",\"type\":\"ColumnDataSource\"},{\"attributes\":{\"line_color\":\"#1f77b4\",\"x\":{\"field\":\"x\"},\"y\":{\"field\":\"y\"}},\"id\":\"2818\",\"type\":\"Line\"},{\"attributes\":{},\"id\":\"2831\",\"type\":\"Selection\"},{\"attributes\":{},\"id\":\"2826\",\"type\":\"AllLabels\"},{\"attributes\":{},\"id\":\"2830\",\"type\":\"UnionRenderers\"},{\"attributes\":{},\"id\":\"2793\",\"type\":\"LinearScale\"},{\"attributes\":{},\"id\":\"2806\",\"type\":\"SaveTool\"},{\"attributes\":{\"axis_label\":\"x axis\",\"coordinates\":null,\"formatter\":{\"id\":\"2828\"},\"group\":null,\"major_label_policy\":{\"id\":\"2829\"},\"ticker\":{\"id\":\"2796\"}},\"id\":\"2795\",\"type\":\"LinearAxis\"},{\"attributes\":{},\"id\":\"2829\",\"type\":\"AllLabels\"},{\"attributes\":{\"line_alpha\":0.2,\"line_color\":\"#1f77b4\",\"x\":{\"field\":\"x\"},\"y\":{\"field\":\"y\"}},\"id\":\"2820\",\"type\":\"Line\"},{\"attributes\":{},\"id\":\"2787\",\"type\":\"DataRange1d\"},{\"attributes\":{\"line_alpha\":0.1,\"line_color\":\"#1f77b4\",\"x\":{\"field\":\"x\"},\"y\":{\"field\":\"y\"}},\"id\":\"2819\",\"type\":\"Line\"},{\"attributes\":{},\"id\":\"2796\",\"type\":\"BasicTicker\"},{\"attributes\":{},\"id\":\"2791\",\"type\":\"LinearScale\"},{\"attributes\":{\"coordinates\":null,\"group\":null,\"items\":[{\"id\":\"2834\"}]},\"id\":\"2833\",\"type\":\"Legend\"}],\"root_ids\":[\"2784\"]},\"title\":\"Bokeh Application\",\"version\":\"2.4.3\"}};\n",
       "  const render_items = [{\"docid\":\"0b249808-e950-4c85-bcda-b126f43f4d4b\",\"root_ids\":[\"2784\"],\"roots\":{\"2784\":\"c8cce2eb-4c90-4a3c-ba61-791d10f69141\"}}];\n",
       "  root.Bokeh.embed.embed_items_notebook(docs_json, render_items);\n",
       "  }\n",
       "  if (root.Bokeh !== undefined) {\n",
       "    embed_document(root);\n",
       "  } else {\n",
       "    let attempts = 0;\n",
       "    const timer = setInterval(function(root) {\n",
       "      if (root.Bokeh !== undefined) {\n",
       "        clearInterval(timer);\n",
       "        embed_document(root);\n",
       "      } else {\n",
       "        attempts++;\n",
       "        if (attempts > 100) {\n",
       "          clearInterval(timer);\n",
       "          console.log(\"Bokeh: ERROR: Unable to run BokehJS code because BokehJS library is missing\");\n",
       "        }\n",
       "      }\n",
       "    }, 10, root)\n",
       "  }\n",
       "})(window);"
      ],
      "application/vnd.bokehjs_exec.v0+json": ""
     },
     "metadata": {
      "application/vnd.bokehjs_exec.v0+json": {
       "id": "2784"
      }
     },
     "output_type": "display_data"
    }
   ],
   "source": [
    "x=[2,3,4,5,6]\n",
    "y=[3,4,5,6,7]\n",
    "output_file(\"line.html\")\n",
    "p=figure(title='line plot')\n",
    "p.xaxis.axis_label=\"x axis\"\n",
    "p.yaxis.axis_label=\"y axis\"\n",
    "p.line(x,y,legend_label='blue line')\n",
    "show(p)"
   ]
  },
  {
   "cell_type": "markdown",
   "id": "2946ae50",
   "metadata": {},
   "source": [
    "# Q.4"
   ]
  },
  {
   "cell_type": "markdown",
   "id": "727a6033",
   "metadata": {},
   "source": [
    "Bokeh server is a Python library that allows you to create interactive Bokeh plots that can be updated in real-time. Bokeh server is built on top of Tornado, a scalable web framework for Python.\n",
    "\n",
    "To create an interactive plot using Bokeh server, you need to define your plot as a Bokeh Document object. The Document object contains all the Bokeh objects that make up your plot, such as figures, glyphs, and layouts. You can then add interactive widgets to your plot, such as sliders, buttons, and dropdown menus. The widgets are defined using Bokeh's models API and added to the Document.\n",
    "\n",
    "Once you have defined your plot and added interactive widgets, you can run the Bokeh server using the bokeh serve command. The Bokeh server creates a web application that serves your plot and widgets. When a user interacts with the widgets, the server updates the plot in real-time based on the user's input.\n",
    "\n",
    "Here is an example of how to create an interactive Bokeh plot using Bokeh server:"
   ]
  },
  {
   "cell_type": "code",
   "execution_count": 12,
   "id": "56acff5f",
   "metadata": {},
   "outputs": [],
   "source": [
    "from bokeh.io import curdoc\n",
    "from bokeh.layouts import column\n",
    "from bokeh.models import ColumnDataSource, Slider\n",
    "from bokeh.plotting import figure\n",
    "\n",
    "source = ColumnDataSource(data=dict(x=[1, 2, 3], y=[1, 4, 9]))\n",
    "plot = figure(title='Interactive Plot', x_axis_label='X', y_axis_label='Y')\n",
    "plot.line('x', 'y', source=source, line_width=2)\n",
    "\n",
    "# Define the slider widget\n",
    "slider = Slider(title='Power', value=1, start=0.1, end=5, step=0.1)\n",
    "\n",
    "# Define the callback function\n",
    "def update_data(attrname, old, new):\n",
    "    new_y = [x**slider.value for x in source.data['x']]\n",
    "    source.data = dict(x=source.data['x'], y=new_y)\n",
    "\n",
    "slider.on_change('value', update_data)\n",
    "\n",
    "# Combine the plot and slider into a layout\n",
    "layout = column(plot, slider)\n",
    "\n",
    "# Add the layout to the current document\n",
    "curdoc().add_root(layout)\n"
   ]
  },
  {
   "cell_type": "markdown",
   "id": "a66f5490",
   "metadata": {},
   "source": [
    "# Q.5"
   ]
  },
  {
   "cell_type": "code",
   "execution_count": null,
   "id": "08c07368",
   "metadata": {},
   "outputs": [
    {
     "name": "stdout",
     "output_type": "stream",
     "text": [
      " * Serving Flask app \"__main__\" (lazy loading)\n",
      " * Environment: production\n",
      "\u001b[31m   WARNING: This is a development server. Do not use it in a production deployment.\u001b[0m\n",
      "\u001b[2m   Use a production WSGI server instead.\u001b[0m\n",
      " * Debug mode: off\n"
     ]
    },
    {
     "name": "stderr",
     "output_type": "stream",
     "text": [
      " * Running on http://127.0.0.1:5000/ (Press CTRL+C to quit)\n",
      "[2023-03-15 22:26:59,710] ERROR in app: Exception on / [GET]\n",
      "Traceback (most recent call last):\n",
      "  File \"C:\\Users\\ASUS\\anaconda3\\lib\\site-packages\\flask\\app.py\", line 2447, in wsgi_app\n",
      "    response = self.full_dispatch_request()\n",
      "  File \"C:\\Users\\ASUS\\anaconda3\\lib\\site-packages\\flask\\app.py\", line 1952, in full_dispatch_request\n",
      "    rv = self.handle_user_exception(e)\n",
      "  File \"C:\\Users\\ASUS\\anaconda3\\lib\\site-packages\\flask\\app.py\", line 1821, in handle_user_exception\n",
      "    reraise(exc_type, exc_value, tb)\n",
      "  File \"C:\\Users\\ASUS\\anaconda3\\lib\\site-packages\\flask\\_compat.py\", line 39, in reraise\n",
      "    raise value\n",
      "  File \"C:\\Users\\ASUS\\anaconda3\\lib\\site-packages\\flask\\app.py\", line 1950, in full_dispatch_request\n",
      "    rv = self.dispatch_request()\n",
      "  File \"C:\\Users\\ASUS\\anaconda3\\lib\\site-packages\\flask\\app.py\", line 1936, in dispatch_request\n",
      "    return self.view_functions[rule.endpoint](**req.view_args)\n",
      "  File \"C:\\Users\\ASUS\\AppData\\Local\\Temp\\ipykernel_7368\\2528210125.py\", line 18, in index\n",
      "    return render_template('index.html', script=script, div=div, cdn_js=CDN.js_files[0], cdn_css=CDN.css_files[0])\n",
      "IndexError: list index out of range\n",
      "127.0.0.1 - - [15/Mar/2023 22:26:59] \"GET / HTTP/1.1\" 500 -\n",
      "127.0.0.1 - - [15/Mar/2023 22:27:00] \"GET /favicon.ico HTTP/1.1\" 404 -\n",
      "[2023-03-15 22:27:05,145] ERROR in app: Exception on / [GET]\n",
      "Traceback (most recent call last):\n",
      "  File \"C:\\Users\\ASUS\\anaconda3\\lib\\site-packages\\flask\\app.py\", line 2447, in wsgi_app\n",
      "    response = self.full_dispatch_request()\n",
      "  File \"C:\\Users\\ASUS\\anaconda3\\lib\\site-packages\\flask\\app.py\", line 1952, in full_dispatch_request\n",
      "    rv = self.handle_user_exception(e)\n",
      "  File \"C:\\Users\\ASUS\\anaconda3\\lib\\site-packages\\flask\\app.py\", line 1821, in handle_user_exception\n",
      "    reraise(exc_type, exc_value, tb)\n",
      "  File \"C:\\Users\\ASUS\\anaconda3\\lib\\site-packages\\flask\\_compat.py\", line 39, in reraise\n",
      "    raise value\n",
      "  File \"C:\\Users\\ASUS\\anaconda3\\lib\\site-packages\\flask\\app.py\", line 1950, in full_dispatch_request\n",
      "    rv = self.dispatch_request()\n",
      "  File \"C:\\Users\\ASUS\\anaconda3\\lib\\site-packages\\flask\\app.py\", line 1936, in dispatch_request\n",
      "    return self.view_functions[rule.endpoint](**req.view_args)\n",
      "  File \"C:\\Users\\ASUS\\AppData\\Local\\Temp\\ipykernel_7368\\2528210125.py\", line 18, in index\n",
      "    return render_template('index.html', script=script, div=div, cdn_js=CDN.js_files[0], cdn_css=CDN.css_files[0])\n",
      "IndexError: list index out of range\n",
      "127.0.0.1 - - [15/Mar/2023 22:27:05] \"GET / HTTP/1.1\" 500 -\n"
     ]
    }
   ],
   "source": [
    "from flask import Flask, render_template\n",
    "from bokeh.embed import components\n",
    "from bokeh.plotting import figure\n",
    "from bokeh.resources import CDN\n",
    "\n",
    "app = Flask(__name__)\n",
    "\n",
    "@app.route('/')\n",
    "def index():\n",
    "    # Create the plot\n",
    "    plot = figure(title='My Plot', x_axis_label='X', y_axis_label='Y')\n",
    "    plot.line([1, 2, 3], [1, 4, 9])\n",
    "\n",
    "    # Generate the HTML components\n",
    "    script, div = components(plot)\n",
    "\n",
    "    # Render the template with the plot components\n",
    "    return render_template('index.html', script=script, div=div, cdn_js=CDN.js_files[0], cdn_css=CDN.css_files[0])\n",
    "\n",
    "if __name__ == '__main__':\n",
    "    app.run()\n"
   ]
  },
  {
   "cell_type": "code",
   "execution_count": null,
   "id": "adafb4c7",
   "metadata": {},
   "outputs": [],
   "source": []
  }
 ],
 "metadata": {
  "kernelspec": {
   "display_name": "Python 3 (ipykernel)",
   "language": "python",
   "name": "python3"
  },
  "language_info": {
   "codemirror_mode": {
    "name": "ipython",
    "version": 3
   },
   "file_extension": ".py",
   "mimetype": "text/x-python",
   "name": "python",
   "nbconvert_exporter": "python",
   "pygments_lexer": "ipython3",
   "version": "3.9.12"
  }
 },
 "nbformat": 4,
 "nbformat_minor": 5
}
