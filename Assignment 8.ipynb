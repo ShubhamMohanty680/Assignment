{
 "cells": [
  {
   "cell_type": "markdown",
   "id": "03ae1643",
   "metadata": {},
   "source": [
    "# Q.1"
   ]
  },
  {
   "cell_type": "code",
   "execution_count": 47,
   "id": "f0a576db",
   "metadata": {},
   "outputs": [],
   "source": [
    "from string import punctuation\n",
    "def check_password(password):\n",
    "    upper=0\n",
    "    lower=0\n",
    "    special_char=0\n",
    "    number=0\n",
    "    for char in password:\n",
    "        if len(password)>=10:\n",
    "            if char.isupper():\n",
    "                upper+=1\n",
    "            if char.islower():\n",
    "                lower+=1\n",
    "            if char.isnumeric():\n",
    "                number+=1\n",
    "            if char in punctuation:\n",
    "                special_char+=1\n",
    "    if len(password)>=10 and upper>=2 and lower>=2 and number>=1 and special_char==3:\n",
    "        valid=\"Valid Password\"\n",
    "    else:\n",
    "        valid=\"Invalid Password\"\n",
    "     \n",
    "    return valid  \n",
    "                "
   ]
  },
  {
   "cell_type": "code",
   "execution_count": 50,
   "id": "21ba2749",
   "metadata": {},
   "outputs": [
    {
     "data": {
      "text/plain": [
       "'Valid Password'"
      ]
     },
     "execution_count": 50,
     "metadata": {},
     "output_type": "execute_result"
    }
   ],
   "source": [
    "pwd=\"@Pass_Word@123\"\n",
    "check_password(pwd)"
   ]
  },
  {
   "cell_type": "markdown",
   "id": "7d2c820b",
   "metadata": {},
   "source": [
    "# Q.2"
   ]
  },
  {
   "cell_type": "code",
   "execution_count": 6,
   "id": "64c498bd",
   "metadata": {},
   "outputs": [
    {
     "data": {
      "text/plain": [
       "True"
      ]
     },
     "execution_count": 6,
     "metadata": {},
     "output_type": "execute_result"
    }
   ],
   "source": [
    "#Check if the string starts with a particular letter.\n",
    "check_start=lambda s,start:True if s[0]==start else False\n",
    "check_start(\"abc\",'a')"
   ]
  },
  {
   "cell_type": "code",
   "execution_count": 13,
   "id": "4ebbe47b",
   "metadata": {},
   "outputs": [
    {
     "data": {
      "text/plain": [
       "True"
      ]
     },
     "execution_count": 13,
     "metadata": {},
     "output_type": "execute_result"
    }
   ],
   "source": [
    "#Check if the string is numeric.\n",
    "check_num=lambda s:True if s.isnumeric() else False\n",
    "check_num(\"11\")"
   ]
  },
  {
   "cell_type": "code",
   "execution_count": 14,
   "id": "d2551b83",
   "metadata": {},
   "outputs": [
    {
     "name": "stdout",
     "output_type": "stream",
     "text": [
      "[('orange', 80), ('mango', 99), ('grapes', 1000)]\n"
     ]
    }
   ],
   "source": [
    "#Sort a list of tuples having fruit names and their quantity.\n",
    "lst=[(\"mango\",99),(\"orange\",80), (\"grapes\", 1000)]\n",
    "lst.sort(key=lambda lst:lst[1])\n",
    "print(lst)"
   ]
  },
  {
   "cell_type": "code",
   "execution_count": 15,
   "id": "340aa120",
   "metadata": {},
   "outputs": [
    {
     "data": {
      "text/plain": [
       "[1, 4, 9, 16, 25, 36, 49, 64, 81, 100]"
      ]
     },
     "execution_count": 15,
     "metadata": {},
     "output_type": "execute_result"
    }
   ],
   "source": [
    "#Find the squares of numbers from 1 to 10.\n",
    "list(map(lambda x:x**2,range(1,11)))"
   ]
  },
  {
   "cell_type": "code",
   "execution_count": 16,
   "id": "29fbd6cf",
   "metadata": {},
   "outputs": [
    {
     "name": "stdout",
     "output_type": "stream",
     "text": [
      "[1.0, 1.2599210498948732, 1.4422495703074083, 1.5874010519681994, 1.7099759466766968, 1.8171205928321397, 1.912931182772389, 2.0, 2.080083823051904, 2.154434690031884]\n"
     ]
    }
   ],
   "source": [
    "#Find the cube root of numbers from 1 to 10.\n",
    "cube_root=list(map(lambda x:x**(1/3),range(1,11)))\n",
    "print(cube_root)"
   ]
  },
  {
   "cell_type": "code",
   "execution_count": 4,
   "id": "59b1a57e",
   "metadata": {},
   "outputs": [
    {
     "data": {
      "text/plain": [
       "True"
      ]
     },
     "execution_count": 4,
     "metadata": {},
     "output_type": "execute_result"
    }
   ],
   "source": [
    "#Check if a given number is even.\n",
    "num=lambda x:True if x%2==0 else False\n",
    "num(10)"
   ]
  },
  {
   "cell_type": "code",
   "execution_count": 68,
   "id": "9c3fccef",
   "metadata": {},
   "outputs": [
    {
     "name": "stdout",
     "output_type": "stream",
     "text": [
      "[1, 3, 5, 7, 9]\n"
     ]
    }
   ],
   "source": [
    "#Filter odd numbers from the given list.\n",
    "li=[1,2,3,4,5,6,7,8,9,10]\n",
    "odd_num=list(filter(lambda x:x%2!=0,li))\n",
    "print(odd_num)"
   ]
  },
  {
   "cell_type": "code",
   "execution_count": 2,
   "id": "154c32d1",
   "metadata": {},
   "outputs": [
    {
     "name": "stdout",
     "output_type": "stream",
     "text": [
      "[1, 2, 3, 4, 5, 6]\n",
      "[-1, -2, -3, -4, -5]\n"
     ]
    }
   ],
   "source": [
    "#Sort a list of integers into positive and negative integers lists.\n",
    "li2=[1,2,3,4,5,6,-1,-2,-3,-4,-5,0]\n",
    "l2=[]\n",
    "positive=[i for i in li2 if i>0]\n",
    "negative=[i for i in li2 if i<0]\n",
    "print(positive)\n",
    "print(negative)"
   ]
  }
 ],
 "metadata": {
  "kernelspec": {
   "display_name": "Python 3 (ipykernel)",
   "language": "python",
   "name": "python3"
  },
  "language_info": {
   "codemirror_mode": {
    "name": "ipython",
    "version": 3
   },
   "file_extension": ".py",
   "mimetype": "text/x-python",
   "name": "python",
   "nbconvert_exporter": "python",
   "pygments_lexer": "ipython3",
   "version": "3.9.12"
  }
 },
 "nbformat": 4,
 "nbformat_minor": 5
}
