{
 "cells": [
  {
   "cell_type": "markdown",
   "id": "e7469f49",
   "metadata": {},
   "source": [
    "# Q.1"
   ]
  },
  {
   "cell_type": "markdown",
   "id": "91987ddf",
   "metadata": {},
   "source": [
    "class is a blueprint for creating objects (a particular data structure).It can also be used to define as the characteristics or properties of all objects of a class."
   ]
  },
  {
   "cell_type": "markdown",
   "id": "2ce58b58",
   "metadata": {},
   "source": [
    "An Object is an instance of a class.An Object is an instance of a Class. A class is like a blueprint while an instance is a copy of the class with actual values."
   ]
  },
  {
   "cell_type": "code",
   "execution_count": 6,
   "id": "7e7a3a84",
   "metadata": {},
   "outputs": [],
   "source": [
    "class welcome:       #Class Creation\n",
    "    def welcome_msg(self):\n",
    "        print(\"welcome to pwskills\")"
   ]
  },
  {
   "cell_type": "code",
   "execution_count": 7,
   "id": "986c5429",
   "metadata": {},
   "outputs": [],
   "source": [
    "rohan=welcome()  #Object Creation"
   ]
  },
  {
   "cell_type": "code",
   "execution_count": 8,
   "id": "a0c1be42",
   "metadata": {},
   "outputs": [
    {
     "name": "stdout",
     "output_type": "stream",
     "text": [
      "welcome to pwskills\n"
     ]
    }
   ],
   "source": [
    "rohan.welcome_msg()"
   ]
  },
  {
   "cell_type": "markdown",
   "id": "4c1e8447",
   "metadata": {},
   "source": [
    "# Q.2"
   ]
  },
  {
   "cell_type": "markdown",
   "id": "030dba0c",
   "metadata": {},
   "source": [
    "The four pillars are Inheritance, Polymorphism, Encapsulation and Abstraction."
   ]
  },
  {
   "cell_type": "markdown",
   "id": "17a547e1",
   "metadata": {},
   "source": [
    "# Q.3"
   ]
  },
  {
   "cell_type": "markdown",
   "id": "f7f8cb82",
   "metadata": {},
   "source": [
    "The __init__ function is called every time an object is created from a class. The __init__ method lets the class initialize the object's attributes and serves no other purpose.It is only used within classes."
   ]
  },
  {
   "cell_type": "code",
   "execution_count": 3,
   "id": "56927acd",
   "metadata": {},
   "outputs": [],
   "source": [
    "class pwskills:\n",
    "    def __init__(self,name,course):\n",
    "        self.Name=name\n",
    "        self.Course=course"
   ]
  },
  {
   "cell_type": "code",
   "execution_count": 4,
   "id": "f94ca872",
   "metadata": {},
   "outputs": [],
   "source": [
    "student_1=pwskills(\"Shubham\",\"Data Science Masters\")"
   ]
  },
  {
   "cell_type": "code",
   "execution_count": 7,
   "id": "435c12d8",
   "metadata": {},
   "outputs": [
    {
     "data": {
      "text/plain": [
       "'Shubham'"
      ]
     },
     "execution_count": 7,
     "metadata": {},
     "output_type": "execute_result"
    }
   ],
   "source": [
    "student_1.Name"
   ]
  },
  {
   "cell_type": "markdown",
   "id": "916b4496",
   "metadata": {},
   "source": [
    "# Q.4"
   ]
  },
  {
   "cell_type": "markdown",
   "id": "0f73e61c",
   "metadata": {},
   "source": [
    "The self variable is used to represent the instance of the class which is often used in object-oriented programming. It works as a reference to the object. Python uses the self parameter to refer to instance attributes and methods of the class. It binds the attributes with the given arguments.We can use naming convention inplace of self."
   ]
  },
  {
   "cell_type": "markdown",
   "id": "ef34cbcb",
   "metadata": {},
   "source": [
    "# Q.5"
   ]
  },
  {
   "cell_type": "markdown",
   "id": "5be83244",
   "metadata": {},
   "source": [
    "Inheritance allows us to define a class that inherits all the methods and properties from another class.Parent class is the class being inherited from, also called base class. Child class is the class that inherits from another class, also called derived class.There are four types of inheritance in python: single inheritance,multiple inheritance,multilevel and hierarchical inheritance."
   ]
  },
  {
   "cell_type": "code",
   "execution_count": 10,
   "id": "03130c9b",
   "metadata": {},
   "outputs": [
    {
     "name": "stdout",
     "output_type": "stream",
     "text": [
      "This function is in parent class.\n",
      "This function is in child class.\n"
     ]
    }
   ],
   "source": [
    "#Single Inheritance\n",
    "\n",
    "class Parent:\n",
    "    def func1(self):\n",
    "        print(\"This function is in parent class.\")\n",
    "        \n",
    "class Child(Parent): #Parent class inherited into Child class\n",
    "    def func2(self):\n",
    "        print(\"This function is in child class.\")\n",
    "\n",
    "\n",
    "object = Child()\n",
    "object.func1()\n",
    "object.func2()"
   ]
  },
  {
   "cell_type": "code",
   "execution_count": 12,
   "id": "be525f3e",
   "metadata": {},
   "outputs": [
    {
     "name": "stdout",
     "output_type": "stream",
     "text": [
      "Dog\n",
      "4\n",
      "True\n",
      "Bark\n"
     ]
    }
   ],
   "source": [
    "#Multiple Inheritance\n",
    "\n",
    "class Animal:\n",
    "    def __init__(self, species, legs):\n",
    "        self.species = species\n",
    "        self.legs = legs\n",
    "        \n",
    "    def make_sound(self):\n",
    "        print(\"Some animal sound\")\n",
    "        \n",
    "class DomesticAnimal:\n",
    "    def __init__(self, domesticated):\n",
    "        self.domesticated = domesticated\n",
    "        \n",
    "class Dog(Animal, DomesticAnimal):\n",
    "    def __init__(self, breed):\n",
    "        Animal.__init__(self, \"Dog\", 4)\n",
    "        DomesticAnimal.__init__(self, True)\n",
    "        self.breed = breed\n",
    "        \n",
    "    def make_sound(self):\n",
    "        print(\"Bark\")\n",
    "        \n",
    "dog = Dog(\"Labrador\")\n",
    "print(dog.species) \n",
    "print(dog.legs) \n",
    "print(dog.domesticated)\n",
    "dog.make_sound()"
   ]
  },
  {
   "cell_type": "code",
   "execution_count": 13,
   "id": "ec2d2831",
   "metadata": {},
   "outputs": [
    {
     "name": "stdout",
     "output_type": "stream",
     "text": [
      "Mammal\n",
      "4\n"
     ]
    }
   ],
   "source": [
    "#Multilevel Inheritance\n",
    "\n",
    "class Animal:\n",
    "    def __init__(self, species, legs):\n",
    "        self.species = species\n",
    "        self.legs = legs\n",
    "        \n",
    "    def make_sound(self):\n",
    "        print(\"Some animal sound\")\n",
    "        \n",
    "class Mammal(Animal):\n",
    "    def __init__(self, fur):\n",
    "        Animal.__init__(self, \"Mammal\", 4)\n",
    "        self.fur = fur\n",
    "        \n",
    "class Dog(Mammal):\n",
    "    def __init__(self, breed):\n",
    "        Mammal.__init__(self, True)\n",
    "        self.breed = breed\n",
    "        \n",
    "    def make_sound(self):\n",
    "        print(\"Bark\")\n",
    "        \n",
    "dog = Dog(\"Labrador\")\n",
    "print(dog.species)\n",
    "print(dog.legs)"
   ]
  },
  {
   "cell_type": "code",
   "execution_count": 14,
   "id": "eaf94204",
   "metadata": {},
   "outputs": [
    {
     "name": "stdout",
     "output_type": "stream",
     "text": [
      "This function is in parent class.\n",
      "This function is in child 1.\n",
      "This function is in parent class.\n",
      "This function is in child 2.\n"
     ]
    }
   ],
   "source": [
    "# Hierarchical Inheritance\n",
    "\n",
    "class Parent:\n",
    "    def func1(self):\n",
    "        print(\"This function is in parent class.\")\n",
    "        \n",
    "    # Derived class1\n",
    "\n",
    "class Child1(Parent):\n",
    "    def func2(self):\n",
    "        print(\"This function is in child 1.\")\n",
    "\n",
    "# Derived class2\n",
    "\n",
    "\n",
    "class Child2(Parent):\n",
    "    def func3(self):\n",
    "        print(\"This function is in child 2.\")\n",
    "\n",
    "object1 = Child1()\n",
    "object2 = Child2()\n",
    "object1.func1()\n",
    "object1.func2()\n",
    "object2.func1()\n",
    "object2.func3()"
   ]
  },
  {
   "cell_type": "code",
   "execution_count": null,
   "id": "0033306b",
   "metadata": {},
   "outputs": [],
   "source": []
  }
 ],
 "metadata": {
  "kernelspec": {
   "display_name": "Python 3 (ipykernel)",
   "language": "python",
   "name": "python3"
  },
  "language_info": {
   "codemirror_mode": {
    "name": "ipython",
    "version": 3
   },
   "file_extension": ".py",
   "mimetype": "text/x-python",
   "name": "python",
   "nbconvert_exporter": "python",
   "pygments_lexer": "ipython3",
   "version": "3.9.12"
  }
 },
 "nbformat": 4,
 "nbformat_minor": 5
}
