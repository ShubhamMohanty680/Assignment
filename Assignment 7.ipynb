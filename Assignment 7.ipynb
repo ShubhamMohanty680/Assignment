{
 "cells": [
  {
   "cell_type": "markdown",
   "id": "820f2e47",
   "metadata": {},
   "source": [
    "# Q.1"
   ]
  },
  {
   "cell_type": "code",
   "execution_count": 19,
   "id": "13a91e8b",
   "metadata": {},
   "outputs": [],
   "source": [
    "list1=[1,2,3,4,[44,55,66,True],False,(34,56,78,89,34),{1,2,3,3,2,1},{1:34,\"key2\":[55,67,78,89],4:(45,22,61,34)},\n",
    "       [56,\"data science\"],'Machine Learning']"
   ]
  },
  {
   "cell_type": "code",
   "execution_count": 88,
   "id": "176c422e",
   "metadata": {},
   "outputs": [],
   "source": [
    "l2=[]\n",
    "def flatten(lst):\n",
    "    for i in lst:\n",
    "        if type(i)==int:\n",
    "            l2.append(i)\n",
    "        elif type(i)==list or type(i)==tuple or type(i)==set:\n",
    "            for j in i:\n",
    "                if type(j)==int:\n",
    "                    l2.append(j)\n",
    "                else:\n",
    "                    flatten(i)\n",
    "        elif type(i)==dict:\n",
    "            d1=list(i.items())\n",
    "            #print(d1)\n",
    "            flatten(d1)\n",
    "    product=1\n",
    "    for num in list(set(l2)):\n",
    "        product*=num\n",
    "    return list(set(l2)),product"
   ]
  },
  {
   "cell_type": "code",
   "execution_count": 89,
   "id": "738f2ef7",
   "metadata": {},
   "outputs": [],
   "source": [
    "flattened_list,product=flatten(list1)"
   ]
  },
  {
   "cell_type": "code",
   "execution_count": 90,
   "id": "af39bf07",
   "metadata": {},
   "outputs": [
    {
     "name": "stdout",
     "output_type": "stream",
     "text": [
      "The given list is: \n",
      " [1, 2, 3, 4, [44, 55, 66, True], False, (34, 56, 78, 89, 34), {1, 2, 3}, {1: 34, 'key2': [55, 67, 78, 89], 4: (45, 22, 61, 34)}, [56, 'data science'], 'Machine Learning'] \n",
      "\n",
      "The flattened list is : [1, 2, 3, 4, 66, 34, 67, 44, 45, 78, 22, 55, 56, 89, 61]\n",
      "The Product of flattened list is: 205003808312138035200\n"
     ]
    }
   ],
   "source": [
    "print(\"The given list is: \\n\",list1,\"\\n\")\n",
    "print(\"The flattened list is :\",flattened_list)\n",
    "print(\"The Product of flattened list is:\",product)"
   ]
  },
  {
   "cell_type": "markdown",
   "id": "6784a1af",
   "metadata": {},
   "source": [
    "# Q.2"
   ]
  },
  {
   "cell_type": "code",
   "execution_count": 91,
   "id": "0ef3058a",
   "metadata": {},
   "outputs": [],
   "source": [
    "message=\"I want to become a Data Scientist.\""
   ]
  },
  {
   "cell_type": "code",
   "execution_count": 97,
   "id": "3601e3c0",
   "metadata": {},
   "outputs": [],
   "source": [
    "def encrypt(msg):\n",
    "    mapping = {'a': 'z', 'b': 'y', 'c': 'x', 'd': 'w', 'e': 'v', 'f': 'u', 'g': 't', 'h': 's', 'i': 'r', 'j': 'q',\n",
    "               'k': 'p', 'l': 'o', 'm': 'n', 'n': 'm', 'o': 'l', 'p': 'k', 'q': 'j', 'r': 'i', 's': 'h', 't': 'g',\n",
    "               'u': 'f', 'v': 'e', 'w': 'd', 'x': 'c', 'y': 'b', 'z': 'a', ' ': '$'}\n",
    "    encrypt_msg=\"\"\n",
    "    msg_new=msg.lower()\n",
    "    for i in msg_new:\n",
    "        if i in mapping:\n",
    "            encrypt_msg+=mapping[i]\n",
    "        else:\n",
    "            encrypt_msg+=i\n",
    "    return encrypt_msg\n",
    "        "
   ]
  },
  {
   "cell_type": "code",
   "execution_count": 98,
   "id": "8d5d6d4e",
   "metadata": {},
   "outputs": [
    {
     "name": "stdout",
     "output_type": "stream",
     "text": [
      "The Actual Message is:  I want to become a Data Scientist.\n",
      "The Encypted Message is: r$dzmg$gl$yvxlnv$z$wzgz$hxrvmgrhg.\n"
     ]
    }
   ],
   "source": [
    "print(\"The Actual Message is: \",message)\n",
    "print(\"The Encypted Message is:\",encrypt(message))"
   ]
  },
  {
   "cell_type": "code",
   "execution_count": null,
   "id": "1042c5b2",
   "metadata": {},
   "outputs": [],
   "source": []
  }
 ],
 "metadata": {
  "kernelspec": {
   "display_name": "Python 3 (ipykernel)",
   "language": "python",
   "name": "python3"
  },
  "language_info": {
   "codemirror_mode": {
    "name": "ipython",
    "version": 3
   },
   "file_extension": ".py",
   "mimetype": "text/x-python",
   "name": "python",
   "nbconvert_exporter": "python",
   "pygments_lexer": "ipython3",
   "version": "3.9.12"
  }
 },
 "nbformat": 4,
 "nbformat_minor": 5
}
