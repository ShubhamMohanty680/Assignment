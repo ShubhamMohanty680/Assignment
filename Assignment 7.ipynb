{
 "cells": [
  {
   "cell_type": "markdown",
   "id": "820f2e47",
   "metadata": {},
   "source": [
    "# Q.1"
   ]
  },
  {
   "cell_type": "code",
   "execution_count": 2,
   "id": "13a91e8b",
   "metadata": {},
   "outputs": [],
   "source": [
    "list1=[1,2,3,4,[44,55,66,True],False,(34,56,78,89,34),{1,2,3,3,2,1},{1:34,\"key2\":[55,67,78,89],4:(45,22,61,34)},\n",
    "       [56,\"data science\"],'Machine Learning']"
   ]
  },
  {
   "cell_type": "code",
   "execution_count": 7,
   "id": "176c422e",
   "metadata": {},
   "outputs": [],
   "source": [
    "def product(lst):\n",
    "    lst_f=[]\n",
    "    prod=1\n",
    "    def flatten_lst(lst):\n",
    "        for i in lst:\n",
    "            if type(i)==int:\n",
    "                lst_f.append(i)\n",
    "            elif type(i)==list:\n",
    "                flatten_lst(i)\n",
    "            elif type(i)==tuple:\n",
    "                flatten_lst(i)\n",
    "            elif type(i)==set:\n",
    "                flatten_lst(i)\n",
    "            elif type(i)==dict:\n",
    "                lst1=list(i.items())\n",
    "                flatten_lst(lst1)\n",
    "    flatten_lst(lst)\n",
    "    for j in lst_f:\n",
    "        prod*=j\n",
    "    return prod"
   ]
  },
  {
   "cell_type": "code",
   "execution_count": 9,
   "id": "738f2ef7",
   "metadata": {},
   "outputs": [
    {
     "data": {
      "text/plain": [
       "4134711838987085478833841242112000"
      ]
     },
     "execution_count": 9,
     "metadata": {},
     "output_type": "execute_result"
    }
   ],
   "source": [
    "list1=[1,2,3,4, [44,55,66, True], False, (34,56,78,89,34), {1,2,3,3,2,1}, {1:34, \"key2\": [55, 67, 78, 89], 4: (45,\n",
    "22, 61, 34)}, [56, 'data science'], 'Machine Learning']\n",
    "product(list1)"
   ]
  },
  {
   "cell_type": "markdown",
   "id": "6784a1af",
   "metadata": {},
   "source": [
    "# Q.2"
   ]
  },
  {
   "cell_type": "code",
   "execution_count": 4,
   "id": "0ef3058a",
   "metadata": {},
   "outputs": [],
   "source": [
    "message=\"I want to become a Data Scientist.\""
   ]
  },
  {
   "cell_type": "code",
   "execution_count": 5,
   "id": "3601e3c0",
   "metadata": {},
   "outputs": [],
   "source": [
    "def encrypt(msg):\n",
    "    mapping = {'a': 'z', 'b': 'y', 'c': 'x', 'd': 'w', 'e': 'v', 'f': 'u', 'g': 't', 'h': 's', 'i': 'r', 'j': 'q',\n",
    "               'k': 'p', 'l': 'o', 'm': 'n', 'n': 'm', 'o': 'l', 'p': 'k', 'q': 'j', 'r': 'i', 's': 'h', 't': 'g',\n",
    "               'u': 'f', 'v': 'e', 'w': 'd', 'x': 'c', 'y': 'b', 'z': 'a', ' ': '$'}\n",
    "    encrypt_msg=\"\"\n",
    "    msg_new=msg.lower()\n",
    "    for i in msg_new:\n",
    "        if i in mapping:\n",
    "            encrypt_msg+=mapping[i]\n",
    "        else:\n",
    "            encrypt_msg+=i\n",
    "    return encrypt_msg\n",
    "        "
   ]
  },
  {
   "cell_type": "code",
   "execution_count": 6,
   "id": "8d5d6d4e",
   "metadata": {},
   "outputs": [
    {
     "name": "stdout",
     "output_type": "stream",
     "text": [
      "Encypted Message is: r$dzmg$gl$yvxlnv$z$wzgz$hxrvmgrhg.\n"
     ]
    }
   ],
   "source": [
    "print(\"Encypted Message is:\",encrypt(message))"
   ]
  },
  {
   "cell_type": "code",
   "execution_count": null,
   "id": "1042c5b2",
   "metadata": {},
   "outputs": [],
   "source": []
  }
 ],
 "metadata": {
  "kernelspec": {
   "display_name": "Python 3 (ipykernel)",
   "language": "python",
   "name": "python3"
  },
  "language_info": {
   "codemirror_mode": {
    "name": "ipython",
    "version": 3
   },
   "file_extension": ".py",
   "mimetype": "text/x-python",
   "name": "python",
   "nbconvert_exporter": "python",
   "pygments_lexer": "ipython3",
   "version": "3.9.12"
  }
 },
 "nbformat": 4,
 "nbformat_minor": 5
}
